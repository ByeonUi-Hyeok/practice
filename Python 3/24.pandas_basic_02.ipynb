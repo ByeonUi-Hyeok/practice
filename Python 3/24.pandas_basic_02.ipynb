{
 "cells": [
  {
   "cell_type": "markdown",
   "source": [
    "# 키워드\r\n",
    "\r\n",
    "- 1. 매소드 / 함수\r\n",
    "- 2. axis 축\r\n",
    "- 3. NaN"
   ],
   "metadata": {}
  },
  {
   "cell_type": "code",
   "execution_count": 13,
   "source": [
    "# 판다스 가져오기 및 별칭 설정\r\n",
    "import pandas as pd\r\n",
    "import numpy as np\r\n",
    "# 판다스 버전확인\r\n",
    "pd.__version__"
   ],
   "outputs": [
    {
     "output_type": "execute_result",
     "data": {
      "text/plain": [
       "'1.2.4'"
      ]
     },
     "metadata": {},
     "execution_count": 13
    }
   ],
   "metadata": {}
  },
  {
   "cell_type": "markdown",
   "source": [
    "## 1.3. 판다스를 사용하는 이유 - 메소드나 함수\r\n",
    " - 판다스는 모양이나 차원이 다른경우 먼저 브로드캐스팅(broadcasting)을 해서 모양을 맞춘 후에 내부의 원소를 계산한다.\r\n",
    " - 또 한 없는 데이터(NaN)가 발생하더라도 내부적으로 예외를 발생시키지 않고 데이터를 처리하면 차원별로 계산이 가능하다.\r\n",
    "\r\n",
    "### 1.3.1 브로드 캐스팅 및 벡터화 연산\r\n",
    " - 판다스에 있는 시리즈나 / 데이터프레임은 다차원 데이터이다. 이 원소들을 순환문(loop)을 이용해 처리하기 보다 내부적으로 각 원소별로 처리하는 것이 더 편함\r\n",
    " - 여러 원소를 가진 시리즈나 데이터프레임의 원소의 개수를 맞추는 것을 브로드 캐스팅(broadcasting)이라 함.\r\n",
    " - 이를 한번에 연산처리하는 것을 벡터화 연산(vectorizing)이라고 함\r\n",
    "\r\n",
    "#### 브로드 캐스팅과 벡터화 연산\r\n",
    " - 시리즈나 데이터 프레임은 여러 차원으로 구성된 데이터이므로 이를 계산할 경우 각 원소들의 개수를 차원단위로 맞춰야 함.\r\n",
    " - 이를 자동으로 맞춘 후에 연산을 처리하므로 실제 차원이 다르다면 차원을 맞추는 일을 먼저 수행한 후에 연산을 처리해야 함."
   ],
   "metadata": {}
  },
  {
   "cell_type": "code",
   "execution_count": 14,
   "source": [
    "# 브로드캐스팅과 벡터화 처리하기\r\n",
    "list_a = [\r\n",
    "    [1,2,3],\r\n",
    "    [4,5,6],\r\n",
    "    [7,8,9]\r\n",
    "    ]\r\n",
    "\r\n",
    "df = pd.DataFrame(data=list_a, columns=list('abc'))\r\n",
    "df\r\n",
    "\r\n",
    "#  결과 분석\r\n",
    "#  원소 9개 / 3행 3열 / 행의 레이블 지정x == 내부적으로 일련의 숫자로 처리됨"
   ],
   "outputs": [
    {
     "output_type": "execute_result",
     "data": {
      "text/plain": [
       "   a  b  c\n",
       "0  1  2  3\n",
       "1  4  5  6\n",
       "2  7  8  9"
      ],
      "text/html": [
       "<div>\n",
       "<style scoped>\n",
       "    .dataframe tbody tr th:only-of-type {\n",
       "        vertical-align: middle;\n",
       "    }\n",
       "\n",
       "    .dataframe tbody tr th {\n",
       "        vertical-align: top;\n",
       "    }\n",
       "\n",
       "    .dataframe thead th {\n",
       "        text-align: right;\n",
       "    }\n",
       "</style>\n",
       "<table border=\"1\" class=\"dataframe\">\n",
       "  <thead>\n",
       "    <tr style=\"text-align: right;\">\n",
       "      <th></th>\n",
       "      <th>a</th>\n",
       "      <th>b</th>\n",
       "      <th>c</th>\n",
       "    </tr>\n",
       "  </thead>\n",
       "  <tbody>\n",
       "    <tr>\n",
       "      <th>0</th>\n",
       "      <td>1</td>\n",
       "      <td>2</td>\n",
       "      <td>3</td>\n",
       "    </tr>\n",
       "    <tr>\n",
       "      <th>1</th>\n",
       "      <td>4</td>\n",
       "      <td>5</td>\n",
       "      <td>6</td>\n",
       "    </tr>\n",
       "    <tr>\n",
       "      <th>2</th>\n",
       "      <td>7</td>\n",
       "      <td>8</td>\n",
       "      <td>9</td>\n",
       "    </tr>\n",
       "  </tbody>\n",
       "</table>\n",
       "</div>"
      ]
     },
     "metadata": {},
     "execution_count": 14
    }
   ],
   "metadata": {}
  },
  {
   "cell_type": "code",
   "execution_count": 15,
   "source": [
    "df1 = pd.DataFrame(\r\n",
    "    data=[\r\n",
    "        [3,3,3],\r\n",
    "        [3,3,3],\r\n",
    "        [3,3,3]\r\n",
    "        ],\r\n",
    "    columns=list('abc')\r\n",
    "    )\r\n",
    "df1"
   ],
   "outputs": [
    {
     "output_type": "execute_result",
     "data": {
      "text/plain": [
       "   a  b  c\n",
       "0  3  3  3\n",
       "1  3  3  3\n",
       "2  3  3  3"
      ],
      "text/html": [
       "<div>\n",
       "<style scoped>\n",
       "    .dataframe tbody tr th:only-of-type {\n",
       "        vertical-align: middle;\n",
       "    }\n",
       "\n",
       "    .dataframe tbody tr th {\n",
       "        vertical-align: top;\n",
       "    }\n",
       "\n",
       "    .dataframe thead th {\n",
       "        text-align: right;\n",
       "    }\n",
       "</style>\n",
       "<table border=\"1\" class=\"dataframe\">\n",
       "  <thead>\n",
       "    <tr style=\"text-align: right;\">\n",
       "      <th></th>\n",
       "      <th>a</th>\n",
       "      <th>b</th>\n",
       "      <th>c</th>\n",
       "    </tr>\n",
       "  </thead>\n",
       "  <tbody>\n",
       "    <tr>\n",
       "      <th>0</th>\n",
       "      <td>3</td>\n",
       "      <td>3</td>\n",
       "      <td>3</td>\n",
       "    </tr>\n",
       "    <tr>\n",
       "      <th>1</th>\n",
       "      <td>3</td>\n",
       "      <td>3</td>\n",
       "      <td>3</td>\n",
       "    </tr>\n",
       "    <tr>\n",
       "      <th>2</th>\n",
       "      <td>3</td>\n",
       "      <td>3</td>\n",
       "      <td>3</td>\n",
       "    </tr>\n",
       "  </tbody>\n",
       "</table>\n",
       "</div>"
      ]
     },
     "metadata": {},
     "execution_count": 15
    }
   ],
   "metadata": {}
  },
  {
   "cell_type": "code",
   "execution_count": 16,
   "source": [
    "df + 3\r\n",
    "\r\n",
    "# 결과 분석\r\n",
    "#  df는 3행 3열 데이터 프레임인데 단순히 상수 3을 더했는데 각 원소들에 다 +3이 되었다.\r\n",
    "#  이 말은 실제 상수 3이 3행 3열의 데이터프레임으로 바뀌는 브로드 캐스팅 처리가되고\r\n",
    "#  그 후 + 연산자로 각 원소별로 계산이 된것이다. "
   ],
   "outputs": [
    {
     "output_type": "execute_result",
     "data": {
      "text/plain": [
       "    a   b   c\n",
       "0   4   5   6\n",
       "1   7   8   9\n",
       "2  10  11  12"
      ],
      "text/html": [
       "<div>\n",
       "<style scoped>\n",
       "    .dataframe tbody tr th:only-of-type {\n",
       "        vertical-align: middle;\n",
       "    }\n",
       "\n",
       "    .dataframe tbody tr th {\n",
       "        vertical-align: top;\n",
       "    }\n",
       "\n",
       "    .dataframe thead th {\n",
       "        text-align: right;\n",
       "    }\n",
       "</style>\n",
       "<table border=\"1\" class=\"dataframe\">\n",
       "  <thead>\n",
       "    <tr style=\"text-align: right;\">\n",
       "      <th></th>\n",
       "      <th>a</th>\n",
       "      <th>b</th>\n",
       "      <th>c</th>\n",
       "    </tr>\n",
       "  </thead>\n",
       "  <tbody>\n",
       "    <tr>\n",
       "      <th>0</th>\n",
       "      <td>4</td>\n",
       "      <td>5</td>\n",
       "      <td>6</td>\n",
       "    </tr>\n",
       "    <tr>\n",
       "      <th>1</th>\n",
       "      <td>7</td>\n",
       "      <td>8</td>\n",
       "      <td>9</td>\n",
       "    </tr>\n",
       "    <tr>\n",
       "      <th>2</th>\n",
       "      <td>10</td>\n",
       "      <td>11</td>\n",
       "      <td>12</td>\n",
       "    </tr>\n",
       "  </tbody>\n",
       "</table>\n",
       "</div>"
      ]
     },
     "metadata": {},
     "execution_count": 16
    }
   ],
   "metadata": {}
  },
  {
   "cell_type": "code",
   "execution_count": 48,
   "source": [
    "# 즉 원소 3이 3행 3열로 채워 만들어진 df1과 같다는 의미인데,\r\n",
    "df + df1\r\n",
    "# 실제로 3이 3행 3열로 채워진 데이터프레임과의 연산이나, 상수 3과의 더하기 연산의 결과가 같음을 알 수 있다.\r\n",
    "# 실제 순환문(loop)이 없이 내부적으로 9개의 원소들끼리 덧셈연산이 처리되었는데 이런처리를 벡터화 연산이라고 한다.\r\n",
    "df"
   ],
   "outputs": [
    {
     "output_type": "execute_result",
     "data": {
      "text/plain": [
       "   a  b  c\n",
       "0  1  2  3\n",
       "1  4  5  6\n",
       "2  7  8  9"
      ],
      "text/html": [
       "<div>\n",
       "<style scoped>\n",
       "    .dataframe tbody tr th:only-of-type {\n",
       "        vertical-align: middle;\n",
       "    }\n",
       "\n",
       "    .dataframe tbody tr th {\n",
       "        vertical-align: top;\n",
       "    }\n",
       "\n",
       "    .dataframe thead th {\n",
       "        text-align: right;\n",
       "    }\n",
       "</style>\n",
       "<table border=\"1\" class=\"dataframe\">\n",
       "  <thead>\n",
       "    <tr style=\"text-align: right;\">\n",
       "      <th></th>\n",
       "      <th>a</th>\n",
       "      <th>b</th>\n",
       "      <th>c</th>\n",
       "    </tr>\n",
       "  </thead>\n",
       "  <tbody>\n",
       "    <tr>\n",
       "      <th>0</th>\n",
       "      <td>1</td>\n",
       "      <td>2</td>\n",
       "      <td>3</td>\n",
       "    </tr>\n",
       "    <tr>\n",
       "      <th>1</th>\n",
       "      <td>4</td>\n",
       "      <td>5</td>\n",
       "      <td>6</td>\n",
       "    </tr>\n",
       "    <tr>\n",
       "      <th>2</th>\n",
       "      <td>7</td>\n",
       "      <td>8</td>\n",
       "      <td>9</td>\n",
       "    </tr>\n",
       "  </tbody>\n",
       "</table>\n",
       "</div>"
      ]
     },
     "metadata": {},
     "execution_count": 48
    }
   ],
   "metadata": {}
  },
  {
   "cell_type": "code",
   "execution_count": 12,
   "source": [
    "# type(df.__add__)\r\n",
    "print(type(df.__add__))\r\n",
    "\r\n",
    "# df.__add__.__func__\r\n",
    "print(type(df.__add__.__func__))\r\n",
    "\r\n",
    "#판다스에서는 데이터"
   ],
   "outputs": [
    {
     "output_type": "stream",
     "name": "stdout",
     "text": [
      "<class 'method'>\n",
      "<class 'function'>\n"
     ]
    }
   ],
   "metadata": {}
  },
  {
   "cell_type": "markdown",
   "source": [
    "## 위의 코드를보면\r\n",
    " - 파이썬의 덧셈 연산은 내부적인 __add__라는 스페셜 메소드로 제공한다.\r\n",
    " - 이 연산자 내부의 함수 __func__를 확인하면 실제 함수가 들어 있는 것을 확인 할 수 있다.\r\n",
    "\r\n",
    " - 파이썬은 내부적으로 method라는 클래스가 만드는 메소드가 있고(. __add__ )\r\n",
    " - 그 메소드 내부에는 실제 수행하는 함수가 존재한다.(. __func__ )"
   ],
   "metadata": {}
  },
  {
   "cell_type": "code",
   "execution_count": 18,
   "source": [
    "# type(df.add)\r\n",
    "print(type(df.add))\r\n",
    "\r\n",
    "# df.add.__func__\r\n",
    "print(type(df.add.__func__))"
   ],
   "outputs": [
    {
     "output_type": "stream",
     "name": "stdout",
     "text": [
      "<class 'method'>\n",
      "<class 'function'>\n"
     ]
    }
   ],
   "metadata": {}
  },
  {
   "cell_type": "markdown",
   "source": [
    "## 위의 코드를보면\r\n",
    " - 판다스에서는 데이터 프레임 안의 연산자 말고도 add라는 메소드도 별도로 제공한다.\r\n",
    " - 이 add라는 메소드는 스페셜 메소드(__add__ 등 __ __안에 감싸진 것들)와 동일하게 method 클래스에서 만들어 진것을 알 수 있다.\r\n",
    " - 매소드 내부에 __func__를 보면 함수가 저장되어 있다.\r\n",
    "\r\n",
    " - 이처럼 판다스에서 스페셜 메소드와 메소드를 이중으로 제공하는 이유는 실제 연산자 연산 말고 다양한 매개변수를\r\n",
    " - 매소드에 넣어 기능을 확장처리 할 수 있도록 하기 때문이다."
   ],
   "metadata": {}
  },
  {
   "cell_type": "code",
   "execution_count": 19,
   "source": [
    "df.__add__.__func__ is df.add.__func__\r\n",
    "# 스페셜메소드와 메소드안 함수는 다르다."
   ],
   "outputs": [
    {
     "output_type": "execute_result",
     "data": {
      "text/plain": [
       "False"
      ]
     },
     "metadata": {},
     "execution_count": 19
    }
   ],
   "metadata": {}
  },
  {
   "cell_type": "markdown",
   "source": [
    "## 1.3.2 누락 값을 포함한 데이터 처리\r\n",
    " - 판다스 클래스 들의 특징은 실제 원소의 값이 들어가 있지 않아도 예외가 없이 처리된다는 것이다.\r\n",
    " - 판다스 모듈에 있는 대부분의 클래스는 대용량 데이터를 처리할 때 누락 값(missing)이 있어도 예외를 발생시키지 않고 처리한다.\r\n",
    "\r\n",
    " - 판다스에서는 데이터없음, 누락값을 NaN으로 표현한다. 이 NaN값은 넘파이 모듈에서 np.nan 을 의미한다.\r\n",
    " - 누락 값 연산 처리할 때 수학 메소드들은 실제 값들이 있을 때만 계산을 수행하고 아닌경우를 NaN으로 처리한다.\r\n",
    " - NaN값은 논리식으로 하면 False이다.\r\n",
    " - 누락값인 NaN은 판다스에서는 float으로 지정해서 관리하므로 NaN이 포함된(컬럼) 자료형은 float이 된다. "
   ],
   "metadata": {}
  },
  {
   "cell_type": "code",
   "execution_count": 30,
   "source": [
    "a = [1,2,3, np.nan]\r\n",
    "df_na = pd.DataFrame(a)\r\n",
    "df_na"
   ],
   "outputs": [
    {
     "output_type": "execute_result",
     "data": {
      "text/plain": [
       "     0\n",
       "0  1.0\n",
       "1  2.0\n",
       "2  3.0\n",
       "3  NaN"
      ],
      "text/html": [
       "<div>\n",
       "<style scoped>\n",
       "    .dataframe tbody tr th:only-of-type {\n",
       "        vertical-align: middle;\n",
       "    }\n",
       "\n",
       "    .dataframe tbody tr th {\n",
       "        vertical-align: top;\n",
       "    }\n",
       "\n",
       "    .dataframe thead th {\n",
       "        text-align: right;\n",
       "    }\n",
       "</style>\n",
       "<table border=\"1\" class=\"dataframe\">\n",
       "  <thead>\n",
       "    <tr style=\"text-align: right;\">\n",
       "      <th></th>\n",
       "      <th>0</th>\n",
       "    </tr>\n",
       "  </thead>\n",
       "  <tbody>\n",
       "    <tr>\n",
       "      <th>0</th>\n",
       "      <td>1.0</td>\n",
       "    </tr>\n",
       "    <tr>\n",
       "      <th>1</th>\n",
       "      <td>2.0</td>\n",
       "    </tr>\n",
       "    <tr>\n",
       "      <th>2</th>\n",
       "      <td>3.0</td>\n",
       "    </tr>\n",
       "    <tr>\n",
       "      <th>3</th>\n",
       "      <td>NaN</td>\n",
       "    </tr>\n",
       "  </tbody>\n",
       "</table>\n",
       "</div>"
      ]
     },
     "metadata": {},
     "execution_count": 30
    }
   ],
   "metadata": {}
  },
  {
   "cell_type": "code",
   "execution_count": 38,
   "source": [
    "print(\"===input>> df_na.sum() ===\")\r\n",
    "print(df_na.sum())\r\n",
    "print(\"===input>> df_na.sum(skipna=False) ===\")\r\n",
    "print(df_na.sum(skipna=False))\r\n",
    "print(\"===input>> df_na<3 ===\")\r\n",
    "print(df_na < 4)\r\n",
    "print(\"===input>> df_na< np.nan ===\")\r\n",
    "print(df_na< np.nan)"
   ],
   "outputs": [
    {
     "output_type": "stream",
     "name": "stdout",
     "text": [
      "===input>> df_na.sum() ===\n",
      "0    6.0\n",
      "dtype: float64\n",
      "===input>> df_na.sum(skipna=False) ===\n",
      "0   NaN\n",
      "dtype: float64\n",
      "===input>> df_na<3 ===\n",
      "       0\n",
      "0   True\n",
      "1   True\n",
      "2   True\n",
      "3  False\n",
      "===input>> df_na< np.nan ===\n",
      "       0\n",
      "0  False\n",
      "1  False\n",
      "2  False\n",
      "3  False\n"
     ]
    }
   ],
   "metadata": {}
  },
  {
   "cell_type": "markdown",
   "source": [
    " - 데이터프레임.sum() 메소드(데이터프레임 내부(.)의 sum메소드(sum)을 실행하면\r\n",
    " - 모든 원소를 더하고(열끼리) 더한 값을 반환한다.\r\n",
    " - 반환값은 1차원 시리즈 이다. ( 열끼리 더하면 어떤 큰 2차원 데이터프레임이 와도 1차원으로 반환할 수 있기때문)\r\n",
    " - 누락 값은 계산하지 않고 숫자만 계산해서 반환한다.\r\n",
    "\r\n",
    " - 데이터프레임 내부의 sum메소드에서 모든 원소를 전부 계산하고싶을때(NaN값 포함)\r\n",
    " - 매개변수 skipna=False로 지정하면 누락 값을 포함해서 계산하게 된다.\r\n",
    " - 그리고 NaN값이 포함된 원소를 연산하게되면\r\n",
    " - 결과 값은 NaN 처리된다.\r\n",
    " - 즉 모든 NaN값과 계산된 결과는 NaN값 처리된다.\r\n",
    "\r\n",
    " - 비교연산자(==, >, < 등)을 사용하면 결과값은 True / False로 반환되는데\r\n",
    " - 누락값(NaN)과의 비교는 항상 False로 반환된다."
   ],
   "metadata": {}
  },
  {
   "cell_type": "markdown",
   "source": [
    "## 1.3.3 축\r\n",
    " - 판다스는 다차원 계산을 처리하므로 각 차원에 대한 축을 기준으로 계산한다\r\n",
    " - 축을 이용해 데이터 원소를 연결하기 위해 축(axis)이 무엇인지 명확히 알아야함.\r\n",
    "\r\n",
    " - 판다스에서는 클래스의 1차원인 시리즈와\r\n",
    " - 2차원인 데이터프레임을 생성한 후에 \r\n",
    " - 다양한 메소드를 지원하고\r\n",
    " - 매개변수 axis에 각 축에 대한 정보를 0,1로 지정해 각 축을 기준으로 처리한다.\r\n",
    "\r\n",
    "### 축\r\n",
    " - 다차원 배열을 처리할 때\r\n",
    " - 시리즈는 1차원이기 때문에 축이 하나만 존재하므로 기본으로 0만을 사용한다.\r\n",
    " - 2차원인 데이터 프레임은 0(행), 1(열)로 만들어 진다.\r\n",
    " - 보통 축은 1차원일 때 0(index)만 있고 2차원일 때 0인 행과 1인 열을 가진다면\r\n",
    " - 판다스에서는 축에대한 정보를 일관성 있게 처리한다.\r\n",
    "\r\n",
    " - 원소들을 계산할 때는 0축은 각 열에 대한 행의 원소들을 계산하도록 하고\r\n",
    " - 1축은 각 행에 대한 열의 원소들을 계산한다."
   ],
   "metadata": {}
  },
  {
   "cell_type": "code",
   "execution_count": 43,
   "source": [
    "from IPython.display import Image\r\n",
    "Image( 'C:/Users/ad/Desktop/일지/3주차 파이썬/res/res/np_0.png' )"
   ],
   "outputs": [
    {
     "output_type": "execute_result",
     "data": {
      "text/plain": [
       "<IPython.core.display.Image object>"
      ],
      "image/png": "[encoded data removed]"
     },
     "metadata": {},
     "execution_count": 43
    }
   ],
   "metadata": {}
  },
  {
   "cell_type": "code",
   "execution_count": 44,
   "source": [
    "Image( 'C:/Users/ad/Desktop/일지/3주차 파이썬/res/res/DL0iQ.jpg' )"
   ],
   "outputs": [
    {
     "output_type": "execute_result",
     "data": {
      "text/plain": [
       "<IPython.core.display.Image object>"
      ],
      "image/jpeg": "[encoded data removed]"
     },
     "metadata": {},
     "execution_count": 44
    }
   ],
   "metadata": {}
  },
  {
   "cell_type": "markdown",
   "source": [
    "### 축\r\n",
    " - 위의 그림과 같이 \r\n",
    " - 행은 axis = 0 (각 열에 대한 행의 원소)\r\n",
    " - 열은 axis = 1 (각 행에 대한 열의 원소) 이다.\r\n",
    "\r\n",
    " - 계산할 때 axis를 주고 그 축에 대한 고정을 지정하면 고정된 축을 기준으로 내부의 값들이 계산된다."
   ],
   "metadata": {}
  },
  {
   "cell_type": "code",
   "execution_count": 45,
   "source": [
    "# 축 알아보기\r\n",
    "df_sax = pd.Series([1,2,3,4])\r\n",
    "df_sax\r\n",
    "\r\n",
    "# 결과 분석\r\n",
    "# index 매개변수에 인자를 넣지 않았기에 index값은 0,1,2,3... 으로 자동생성\r\n",
    "# 시리즈는 1차원이므로 0번 축인 열(axis=0)을 기준으로 만들어진다.\r\n",
    "# 축을 고정해서 계산한다는 것은 행을 고정해서 계산하라는 뜻이다.\r\n",
    "# 시리즈는 기본적으로 행에 대한 계산을 하기 때문이다."
   ],
   "outputs": [
    {
     "output_type": "execute_result",
     "data": {
      "text/plain": [
       "0    1\n",
       "1    2\n",
       "2    3\n",
       "3    4\n",
       "dtype: int64"
      ]
     },
     "metadata": {},
     "execution_count": 45
    }
   ],
   "metadata": {}
  },
  {
   "cell_type": "code",
   "execution_count": 57,
   "source": [
    "df_sax.sum(axis=0)\r\n",
    "# 시리즈 객체에 있는 .sum 매소드에 axis 매개변수에 0을 입력하면 \r\n",
    "# 행을 고정해서 그 내부의 원소를 계산하라는 뜻이다.\r\n",
    "# 결과는 모든 원소를 더한 값이 정수로 출력된다.(1+2+3+4)"
   ],
   "outputs": [
    {
     "output_type": "execute_result",
     "data": {
      "text/plain": [
       "10"
      ]
     },
     "metadata": {},
     "execution_count": 57
    }
   ],
   "metadata": {}
  },
  {
   "cell_type": "code",
   "execution_count": 49,
   "source": [
    "list_a = [\r\n",
    "    [1,2,3],\r\n",
    "    [4,5,6],\r\n",
    "    [7,8,9]\r\n",
    "    ]\r\n",
    "\r\n",
    "df = pd.DataFrame(data=list_a, columns=list('abc'))\r\n",
    "df"
   ],
   "outputs": [
    {
     "output_type": "execute_result",
     "data": {
      "text/plain": [
       "   a  b  c\n",
       "0  1  2  3\n",
       "1  4  5  6\n",
       "2  7  8  9"
      ],
      "text/html": [
       "<div>\n",
       "<style scoped>\n",
       "    .dataframe tbody tr th:only-of-type {\n",
       "        vertical-align: middle;\n",
       "    }\n",
       "\n",
       "    .dataframe tbody tr th {\n",
       "        vertical-align: top;\n",
       "    }\n",
       "\n",
       "    .dataframe thead th {\n",
       "        text-align: right;\n",
       "    }\n",
       "</style>\n",
       "<table border=\"1\" class=\"dataframe\">\n",
       "  <thead>\n",
       "    <tr style=\"text-align: right;\">\n",
       "      <th></th>\n",
       "      <th>a</th>\n",
       "      <th>b</th>\n",
       "      <th>c</th>\n",
       "    </tr>\n",
       "  </thead>\n",
       "  <tbody>\n",
       "    <tr>\n",
       "      <th>0</th>\n",
       "      <td>1</td>\n",
       "      <td>2</td>\n",
       "      <td>3</td>\n",
       "    </tr>\n",
       "    <tr>\n",
       "      <th>1</th>\n",
       "      <td>4</td>\n",
       "      <td>5</td>\n",
       "      <td>6</td>\n",
       "    </tr>\n",
       "    <tr>\n",
       "      <th>2</th>\n",
       "      <td>7</td>\n",
       "      <td>8</td>\n",
       "      <td>9</td>\n",
       "    </tr>\n",
       "  </tbody>\n",
       "</table>\n",
       "</div>"
      ]
     },
     "metadata": {},
     "execution_count": 49
    }
   ],
   "metadata": {}
  },
  {
   "cell_type": "code",
   "execution_count": 55,
   "source": [
    "print(\"df.sum()\")\r\n",
    "print(df.sum())\r\n",
    "\r\n",
    "print(\"df.sum(axis=1)\")\r\n",
    "print(df.sum(axis=1))\r\n",
    "\r\n",
    "print(\"df.sum(axis=0)\")\r\n",
    "print(df.sum(axis=0))"
   ],
   "outputs": [
    {
     "output_type": "stream",
     "name": "stdout",
     "text": [
      "df.sum()\n",
      "a    12\n",
      "b    15\n",
      "c    18\n",
      "dtype: int64\n",
      "df.sum(axis=1)\n",
      "0     6\n",
      "1    15\n",
      "2    24\n",
      "dtype: int64\n",
      "df.sum(axis=0)\n",
      "a    12\n",
      "b    15\n",
      "c    18\n",
      "dtype: int64\n"
     ]
    }
   ],
   "metadata": {}
  },
  {
   "cell_type": "markdown",
   "source": [
    "## 1.3.4 수학 연산시 처리 규칙\r\n",
    " - 데이터 프레임 객체에 연산을 하면 단항(unary)연산자는 주로 하나의 객체를 처리하므로\r\n",
    " - 내부에 지정된 행과 열에 대한 레이블을 유지하지만\r\n",
    " - 이항(binary)연산자는 두개의 객체를 처리하므로\r\n",
    " - 행과 열의 레이블을 정렬(alignment)해서 비교한 후에 계산하므로 레이블이 정렬 처리된다."
   ],
   "metadata": {}
  },
  {
   "cell_type": "code",
   "execution_count": 61,
   "source": [
    "np.random.randint(1,10,(3,3))"
   ],
   "outputs": [
    {
     "output_type": "execute_result",
     "data": {
      "text/plain": [
       "array([[8, 3, 2],\n",
       "       [7, 8, 9],\n",
       "       [4, 2, 1]])"
      ]
     },
     "metadata": {},
     "execution_count": 61
    }
   ],
   "metadata": {}
  },
  {
   "cell_type": "code",
   "execution_count": 63,
   "source": [
    "df_1 = pd.DataFrame(data=np.random.randint(1,10,(3,3)), columns=(list(\"ABC\")))\r\n",
    "df_1\r\n"
   ],
   "outputs": [
    {
     "output_type": "execute_result",
     "data": {
      "text/plain": [
       "   A  B  C\n",
       "0  4  5  3\n",
       "1  8  9  3\n",
       "2  5  3  1"
      ],
      "text/html": [
       "<div>\n",
       "<style scoped>\n",
       "    .dataframe tbody tr th:only-of-type {\n",
       "        vertical-align: middle;\n",
       "    }\n",
       "\n",
       "    .dataframe tbody tr th {\n",
       "        vertical-align: top;\n",
       "    }\n",
       "\n",
       "    .dataframe thead th {\n",
       "        text-align: right;\n",
       "    }\n",
       "</style>\n",
       "<table border=\"1\" class=\"dataframe\">\n",
       "  <thead>\n",
       "    <tr style=\"text-align: right;\">\n",
       "      <th></th>\n",
       "      <th>A</th>\n",
       "      <th>B</th>\n",
       "      <th>C</th>\n",
       "    </tr>\n",
       "  </thead>\n",
       "  <tbody>\n",
       "    <tr>\n",
       "      <th>0</th>\n",
       "      <td>4</td>\n",
       "      <td>5</td>\n",
       "      <td>3</td>\n",
       "    </tr>\n",
       "    <tr>\n",
       "      <th>1</th>\n",
       "      <td>8</td>\n",
       "      <td>9</td>\n",
       "      <td>3</td>\n",
       "    </tr>\n",
       "    <tr>\n",
       "      <th>2</th>\n",
       "      <td>5</td>\n",
       "      <td>3</td>\n",
       "      <td>1</td>\n",
       "    </tr>\n",
       "  </tbody>\n",
       "</table>\n",
       "</div>"
      ]
     },
     "metadata": {},
     "execution_count": 63
    }
   ],
   "metadata": {}
  },
  {
   "cell_type": "code",
   "execution_count": 65,
   "source": [
    "df_2 = pd.DataFrame(data=np.random.randint(1,10,(3,3)), columns=(list(\"CAB\")))\r\n",
    "df_2"
   ],
   "outputs": [
    {
     "output_type": "execute_result",
     "data": {
      "text/plain": [
       "   C  A  B\n",
       "0  2  9  2\n",
       "1  5  5  3\n",
       "2  7  9  3"
      ],
      "text/html": [
       "<div>\n",
       "<style scoped>\n",
       "    .dataframe tbody tr th:only-of-type {\n",
       "        vertical-align: middle;\n",
       "    }\n",
       "\n",
       "    .dataframe tbody tr th {\n",
       "        vertical-align: top;\n",
       "    }\n",
       "\n",
       "    .dataframe thead th {\n",
       "        text-align: right;\n",
       "    }\n",
       "</style>\n",
       "<table border=\"1\" class=\"dataframe\">\n",
       "  <thead>\n",
       "    <tr style=\"text-align: right;\">\n",
       "      <th></th>\n",
       "      <th>C</th>\n",
       "      <th>A</th>\n",
       "      <th>B</th>\n",
       "    </tr>\n",
       "  </thead>\n",
       "  <tbody>\n",
       "    <tr>\n",
       "      <th>0</th>\n",
       "      <td>2</td>\n",
       "      <td>9</td>\n",
       "      <td>2</td>\n",
       "    </tr>\n",
       "    <tr>\n",
       "      <th>1</th>\n",
       "      <td>5</td>\n",
       "      <td>5</td>\n",
       "      <td>3</td>\n",
       "    </tr>\n",
       "    <tr>\n",
       "      <th>2</th>\n",
       "      <td>7</td>\n",
       "      <td>9</td>\n",
       "      <td>3</td>\n",
       "    </tr>\n",
       "  </tbody>\n",
       "</table>\n",
       "</div>"
      ]
     },
     "metadata": {},
     "execution_count": 65
    }
   ],
   "metadata": {}
  },
  {
   "cell_type": "code",
   "execution_count": 66,
   "source": [
    "np.log(df_2)\r\n",
    "\r\n",
    "\r\n",
    "# 넘파이의 log 함수를 이용해서 데이터 프레임을 계산하면 현재 정의된 레이블은 유지되면서\r\n",
    "# 계산결과에 새로운 데이터 프레임 객체를 반환한다.\r\n",
    "# 단항연산자이기 때문에"
   ],
   "outputs": [
    {
     "output_type": "execute_result",
     "data": {
      "text/plain": [
       "          C         A         B\n",
       "0  0.693147  2.197225  0.693147\n",
       "1  1.609438  1.609438  1.098612\n",
       "2  1.945910  2.197225  1.098612"
      ],
      "text/html": [
       "<div>\n",
       "<style scoped>\n",
       "    .dataframe tbody tr th:only-of-type {\n",
       "        vertical-align: middle;\n",
       "    }\n",
       "\n",
       "    .dataframe tbody tr th {\n",
       "        vertical-align: top;\n",
       "    }\n",
       "\n",
       "    .dataframe thead th {\n",
       "        text-align: right;\n",
       "    }\n",
       "</style>\n",
       "<table border=\"1\" class=\"dataframe\">\n",
       "  <thead>\n",
       "    <tr style=\"text-align: right;\">\n",
       "      <th></th>\n",
       "      <th>C</th>\n",
       "      <th>A</th>\n",
       "      <th>B</th>\n",
       "    </tr>\n",
       "  </thead>\n",
       "  <tbody>\n",
       "    <tr>\n",
       "      <th>0</th>\n",
       "      <td>0.693147</td>\n",
       "      <td>2.197225</td>\n",
       "      <td>0.693147</td>\n",
       "    </tr>\n",
       "    <tr>\n",
       "      <th>1</th>\n",
       "      <td>1.609438</td>\n",
       "      <td>1.609438</td>\n",
       "      <td>1.098612</td>\n",
       "    </tr>\n",
       "    <tr>\n",
       "      <th>2</th>\n",
       "      <td>1.945910</td>\n",
       "      <td>2.197225</td>\n",
       "      <td>1.098612</td>\n",
       "    </tr>\n",
       "  </tbody>\n",
       "</table>\n",
       "</div>"
      ]
     },
     "metadata": {},
     "execution_count": 66
    }
   ],
   "metadata": {}
  },
  {
   "cell_type": "code",
   "execution_count": 67,
   "source": [
    "df_1 + df_2\r\n",
    "\r\n",
    "\r\n",
    "# 데이터 프레임 덧셈연산을하면\r\n",
    "# 행과 열의 레이블을 맞춰 정렬하여\r\n",
    "# 계산 후에 정렬된 데이터 프레임 객체를반환\r\n",
    "# 덧셈연사는 이항 연산자이기 대문이다. "
   ],
   "outputs": [
    {
     "output_type": "execute_result",
     "data": {
      "text/plain": [
       "    A   B  C\n",
       "0  13   7  5\n",
       "1  13  12  8\n",
       "2  14   6  8"
      ],
      "text/html": [
       "<div>\n",
       "<style scoped>\n",
       "    .dataframe tbody tr th:only-of-type {\n",
       "        vertical-align: middle;\n",
       "    }\n",
       "\n",
       "    .dataframe tbody tr th {\n",
       "        vertical-align: top;\n",
       "    }\n",
       "\n",
       "    .dataframe thead th {\n",
       "        text-align: right;\n",
       "    }\n",
       "</style>\n",
       "<table border=\"1\" class=\"dataframe\">\n",
       "  <thead>\n",
       "    <tr style=\"text-align: right;\">\n",
       "      <th></th>\n",
       "      <th>A</th>\n",
       "      <th>B</th>\n",
       "      <th>C</th>\n",
       "    </tr>\n",
       "  </thead>\n",
       "  <tbody>\n",
       "    <tr>\n",
       "      <th>0</th>\n",
       "      <td>13</td>\n",
       "      <td>7</td>\n",
       "      <td>5</td>\n",
       "    </tr>\n",
       "    <tr>\n",
       "      <th>1</th>\n",
       "      <td>13</td>\n",
       "      <td>12</td>\n",
       "      <td>8</td>\n",
       "    </tr>\n",
       "    <tr>\n",
       "      <th>2</th>\n",
       "      <td>14</td>\n",
       "      <td>6</td>\n",
       "      <td>8</td>\n",
       "    </tr>\n",
       "  </tbody>\n",
       "</table>\n",
       "</div>"
      ]
     },
     "metadata": {},
     "execution_count": 67
    }
   ],
   "metadata": {}
  },
  {
   "cell_type": "code",
   "execution_count": 68,
   "source": [
    "df_3 = pd.DataFrame(np.random.randint(1,10,(3,2)),columns=list('CB'))\r\n",
    "df_3"
   ],
   "outputs": [
    {
     "output_type": "execute_result",
     "data": {
      "text/plain": [
       "   C  B\n",
       "0  8  2\n",
       "1  6  5\n",
       "2  4  2"
      ],
      "text/html": [
       "<div>\n",
       "<style scoped>\n",
       "    .dataframe tbody tr th:only-of-type {\n",
       "        vertical-align: middle;\n",
       "    }\n",
       "\n",
       "    .dataframe tbody tr th {\n",
       "        vertical-align: top;\n",
       "    }\n",
       "\n",
       "    .dataframe thead th {\n",
       "        text-align: right;\n",
       "    }\n",
       "</style>\n",
       "<table border=\"1\" class=\"dataframe\">\n",
       "  <thead>\n",
       "    <tr style=\"text-align: right;\">\n",
       "      <th></th>\n",
       "      <th>C</th>\n",
       "      <th>B</th>\n",
       "    </tr>\n",
       "  </thead>\n",
       "  <tbody>\n",
       "    <tr>\n",
       "      <th>0</th>\n",
       "      <td>8</td>\n",
       "      <td>2</td>\n",
       "    </tr>\n",
       "    <tr>\n",
       "      <th>1</th>\n",
       "      <td>6</td>\n",
       "      <td>5</td>\n",
       "    </tr>\n",
       "    <tr>\n",
       "      <th>2</th>\n",
       "      <td>4</td>\n",
       "      <td>2</td>\n",
       "    </tr>\n",
       "  </tbody>\n",
       "</table>\n",
       "</div>"
      ]
     },
     "metadata": {},
     "execution_count": 68
    }
   ],
   "metadata": {}
  },
  {
   "cell_type": "code",
   "execution_count": 71,
   "source": [
    "df_1 +df_3\r\n",
    "\r\n",
    "# df_3도 마찬가지로 df_1과 덧셈연산을하기위해 index, column을 정렬하고 덧셈연산을 진행했다.\r\n",
    "# 하지만 df_3에는 A 컬럼이 존재하지 않으므로 df_1과 연산하기 위해 A컬럼을 생성한다.\r\n",
    "# A컬럼을 생성한 후 원소들의 값을 모두 NaN 처리한다.\r\n",
    "# df_3의 새로 생긴 A컬럼의 원소들이 NaN 이기때문에 df_1의 A컬럼에 원소들이 수치를 가지고 있더라도\r\n",
    "# NaN과 어떤 연산을 해도 NaN을 리턴하기때문에\r\n",
    "# A컬럼의 연산결과는 NaN이된다.\r\n"
   ],
   "outputs": [
    {
     "output_type": "execute_result",
     "data": {
      "text/plain": [
       "    A   B   C\n",
       "0 NaN   7  11\n",
       "1 NaN  14   9\n",
       "2 NaN   5   5"
      ],
      "text/html": [
       "<div>\n",
       "<style scoped>\n",
       "    .dataframe tbody tr th:only-of-type {\n",
       "        vertical-align: middle;\n",
       "    }\n",
       "\n",
       "    .dataframe tbody tr th {\n",
       "        vertical-align: top;\n",
       "    }\n",
       "\n",
       "    .dataframe thead th {\n",
       "        text-align: right;\n",
       "    }\n",
       "</style>\n",
       "<table border=\"1\" class=\"dataframe\">\n",
       "  <thead>\n",
       "    <tr style=\"text-align: right;\">\n",
       "      <th></th>\n",
       "      <th>A</th>\n",
       "      <th>B</th>\n",
       "      <th>C</th>\n",
       "    </tr>\n",
       "  </thead>\n",
       "  <tbody>\n",
       "    <tr>\n",
       "      <th>0</th>\n",
       "      <td>NaN</td>\n",
       "      <td>7</td>\n",
       "      <td>11</td>\n",
       "    </tr>\n",
       "    <tr>\n",
       "      <th>1</th>\n",
       "      <td>NaN</td>\n",
       "      <td>14</td>\n",
       "      <td>9</td>\n",
       "    </tr>\n",
       "    <tr>\n",
       "      <th>2</th>\n",
       "      <td>NaN</td>\n",
       "      <td>5</td>\n",
       "      <td>5</td>\n",
       "    </tr>\n",
       "  </tbody>\n",
       "</table>\n",
       "</div>"
      ]
     },
     "metadata": {},
     "execution_count": 71
    }
   ],
   "metadata": {}
  },
  {
   "cell_type": "markdown",
   "source": [
    "# 주피터 노트북과 파이썬을 이용한 데이터분석\r\n",
    "## 손에 잡히는 판다스\r\n",
    "### 문용준 지음 _ 2018.11.30 \r\n",
    "#### 비제이퍼블릭 발행\r\n",
    "##### 페이지 20 ~ 31 1.3.5 전까지"
   ],
   "metadata": {}
  },
  {
   "cell_type": "markdown",
   "source": [],
   "metadata": {}
  }
 ],
 "metadata": {
  "orig_nbformat": 4,
  "language_info": {
   "name": "python"
  }
 },
 "nbformat": 4,
 "nbformat_minor": 2
}