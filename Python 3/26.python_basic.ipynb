{
 "cells": [
  {
   "cell_type": "markdown",
   "source": [
    "# 이해 안되는것\r\n",
    " - b''\r\n",
    " - 접두어 b'"
   ],
   "metadata": {}
  },
  {
   "cell_type": "markdown",
   "source": [
    "# 변수에 유의미한 이름을 부여 하는법\r\n",
    " - 사람들이 이해하기 쉬운 코드를 만드려면 유의미한 이름을 사용해야한다.\r\n",
    " - 이름을 지을때는 먼저 이 객체는 무엇일까? 질문해야한다.\r\n",
    " - s/w의 경우 대상이 이름짓는 대상이 되는 객체를 서술하는 이름이 바람직하다.(x,y,a,b 등은 서술적이지 않다.)\r\n",
    "\r\n",
    " - 이름을 지을때 문제영역(problem domain / 실제로 성취하고지 시도중인대상)과\r\n",
    " - 해결책 영역(solution domain)을 분리하는 것도 중요하다. \r\n",
    "\r\n",
    " ## 현명한 이름짓기\r\n",
    "  - 파이썬의 모든 이름은 문자로 시작해야한다.\r\n",
    "  - 문자/숫자/언더바(_)의 개수 제한없으며 파이썬3는 유니코드 기반이므로 꼭 라틴문자만 사용하지 않아도 된다.\r\n",
    "  - 위의 서술적 이름이란 구체적이면서 프로그램내의 여러사물간의 관계를 분명하게 드러내는 이름을 의미한다.\r\n",
    "  - 이런 이름을 짓기 위해 주로 사용되는 방법은 특수한 개념에서 일반적 개념순서로 이름을 짓는 것이다.\r\n",
    "\r\n",
    "  ### 이름 짓는 순서\r\n",
    "   - 1. 이름의 뒷부분은 사물에 대한 광범위한 요약 개념\r\n",
    "   - 2. 범위를 좁히기 위해 어플리케이션 또는 문제 영역과 관련된 접두어 붙임\r\n",
    "   - 3. 필요하다면 다른 클래스, 모듈, 패키지, 함수, 기타 객체등과의 분명한 구별을위해 많은 접두어 사용\r\n",
    "   - 3-1. 접두어의 예는 DNS(도메인네임시스템)이다. 예를들어 mail.google.com 은 3단계 구성되어 있다.\r\n",
    "   - 4. 파이썬 코드 내에서 사용법에 따라 이름의 포맷을 정한다. 이름을 짓는 대상은 크게 세가지로 나눌 수 있다.\r\n",
    "\r\n",
    "   - 4-1. 클래스 == 클래스에 속하는 객체를 요약하는 이름 사용\r\n",
    "   - 4-1-1. 클래스에는 Capitalized CamelCase 규칙이 사용되는데, 이 규칙에서는 클래스의 인스턴스가아니라 클래스임을 강조하기위해\r\n",
    "   - *** 첫글자를 대문자로 *** 시작한다. 클래스는 포괄적 개념으로 실제 형태를 갖는 사물을 기술하지는 않는다.\r\n",
    "\r\n",
    "   - 4-2. 객체 == 주로 snake_case 사용\r\n",
    "   - 4-2-1. 이 규칙에서는 이름은 모두 소문자이며 단어간에 공백자리에 _문자가 사용된다.\r\n",
    "   - 4-2-2. 변수,함수,모듈,패키지,매개변수,객체의속성,클래스의매소드, 그밖의 거의 모든것이 여기 포함된다.\r\n",
    "\r\n",
    "   - 4-3. 스크립트와 모듈파일 == 파이선 관점의 운영체제 자원이다. 따라서 파일명은 파이썬의 명명규칙을 따르는게 좋다.\r\n",
    "   - 4-3-1. 즉, 소문자와 _문자를 사용하고 .py로 끝낸다.\r\n",
    "   - 4-3-2. 기술적으로는 아무이름이나 지어도 상관은 없지만 파이선 규칙을 따르지 않는 파일명은 모듈/패키지로 사용되기 어렵다.\r\n",
    "\r\n",
    " *** 파이썬에서 헝가리안 표기법 쓰는 것을 지양해야한다. ***"
   ],
   "metadata": {}
  },
  {
   "cell_type": "code",
   "execution_count": 1,
   "source": [
    "# 중복대입\r\n",
    "test_a = test_b ='test'\r\n",
    "\r\n",
    "print(test_a, test_b)\r\n",
    "print(test_a is test_b)\r\n",
    "print(id(test_a)==id(test_b))"
   ],
   "outputs": [
    {
     "output_type": "stream",
     "name": "stdout",
     "text": [
      "test test\n",
      "True\n",
      "True\n"
     ]
    }
   ],
   "metadata": {}
  },
  {
   "cell_type": "code",
   "execution_count": 2,
   "source": [
    "import this"
   ],
   "outputs": [
    {
     "output_type": "stream",
     "name": "stdout",
     "text": [
      "The Zen of Python, by Tim Peters\n",
      "\n",
      "Beautiful is better than ugly.\n",
      "Explicit is better than implicit.\n",
      "Simple is better than complex.\n",
      "Complex is better than complicated.\n",
      "Flat is better than nested.\n",
      "Sparse is better than dense.\n",
      "Readability counts.\n",
      "Special cases aren't special enough to break the rules.\n",
      "Although practicality beats purity.\n",
      "Errors should never pass silently.\n",
      "Unless explicitly silenced.\n",
      "In the face of ambiguity, refuse the temptation to guess.\n",
      "There should be one-- and preferably only one --obvious way to do it.\n",
      "Although that way may not be obvious at first unless you're Dutch.\n",
      "Now is better than never.\n",
      "Although never is often better than *right* now.\n",
      "If the implementation is hard to explain, it's a bad idea.\n",
      "If the implementation is easy to explain, it may be a good idea.\n",
      "Namespaces are one honking great idea -- let's do more of those!\n"
     ]
    }
   ],
   "metadata": {}
  },
  {
   "cell_type": "markdown",
   "source": [
    "파이썬의 선, 팀 피터스\r\n",
    "\r\n",
    "아름다운 것이 못생긴 것보다 낫다.\r\n",
    "명시적인 것이 암묵적인 것보다 낫다.\r\n",
    "단순한 것이 복잡한 것보다 낫다.\r\n",
    "복잡한 것보다 복잡한 것이 낫다.\r\n",
    "플랫이 중첩된 것보다 좋습니다.\r\n",
    "촘촘한 것보다 스파스가 낫다.\r\n",
    "가독성 카운트.\r\n",
    "특별한 경우는 규칙을 어길 만큼 특별하지 않다.\r\n",
    "비록 실용성이 순결보다 우선하지만.\r\n",
    "오류는 절대 묵묵히 지나쳐서는 안 된다.\r\n",
    "명시적으로 침묵하지 않는 한.\r\n",
    "애매모호하게, 추측하고 싶은 유혹을 거부하라.\r\n",
    "그것을 할 수 있는 한 가지, 그리고 가급적 한 가지 확실한 방법이 있어야 합니다.\r\n",
    "비록 당신이 네덜란드인이 아니라면 처음에는 그런 방법이 분명하지 않을 수도 있다.\r\n",
    "지금이 안 하는 것보다 낫다.\r\n",
    "하지만 지금은 *지금은*보다 더 나은 적이 없습니다.\r\n",
    "구현이 설명하기 어렵다면 이는 좋지 않은 생각입니다.\r\n",
    "구현이 설명하기 쉽다면, 좋은 생각일 것이다.\r\n",
    "네임스페이스는 경적을 울리는 좋은 아이디어 중 하나이다. 그런 아이디어들을 더 많이 해보자!"
   ],
   "metadata": {}
  },
  {
   "cell_type": "code",
   "execution_count": 3,
   "source": [
    "composite_byte = 0b1101100\r\n",
    "bottom_6_mask = 0b00111111\r\n",
    "print(bin(composite_byte >> 6))\r\n",
    "print(composite_byte >> 6)\r\n",
    "print(bin(composite_byte & bottom_6_mask))\r\n",
    "print(composite_byte & bottom_6_mask)"
   ],
   "outputs": [
    {
     "output_type": "stream",
     "name": "stdout",
     "text": [
      "0b1\n",
      "1\n",
      "0b101100\n",
      "44\n"
     ]
    }
   ],
   "metadata": {}
  },
  {
   "cell_type": "markdown",
   "source": [
    "# float, Decimal, Fraction 구별\r\n",
    " - 프로그램을 작성할 때에는 수학적 기새두순을 정확히 하는것이 중요\r\n",
    " - 어떤 종류의 데이터를 다룰지\r\n",
    " - 어떤 종류의 결과 데이터를 얻고싶은지 확실해야함.\r\n",
    "\r\n",
    "## 정수 아닌 수를 계산하는 경우\r\n",
    " - 크게 3가지경우\r\n",
    " - 1. 화폐: 달러, 센트, 유로등 화폐의 소수점 이하의 자리수가 정해져 있다. 예컨데 $2.95의 7.25%를 얼마로 해야할지 정하는 반올림 규칙이 존재한다.\r\n",
    " - 2. 유리수 또는 분수 : 피트나 인치, 컵과 액량 온스 단위의 요리기구를 사용해ㅑ야한다면 분수계산이 필요하다.\r\n",
    " - 2-1. 예를들어 8인분으로 고안된 레시피를 5인분으로 줄이고싶다면 5/8 곱하는 계산을 수행해야한다.\r\n",
    " - 3. 무리수 : 1,2번 경우 제외한 모든 종류의 계산 포함\r\n",
    " - 3-1. 컴퓨터는 무리수를 오직 근삿값으로 계산하기 때문에 주의해야함. 근삿값은 가끔 이상하게 표현될 때가 있기 때문\r\n",
    " - 3-2. 근삿값은 빠르지만 절삭오차가 발생한다.\r\n",
    "\r\n",
    " - 1,2 경우 부동소수점 수를 사용해선느 안된다."
   ],
   "metadata": {}
  },
  {
   "cell_type": "markdown",
   "source": [
    "### 화폐 계산방법\r\n",
    " - 화폐를 다룰때는 decimal 모듈을 사용해야한다.\r\n",
    " - float은 반올림과 절삭오차로 인한 문제가 발생한다."
   ],
   "metadata": {}
  },
  {
   "cell_type": "code",
   "execution_count": 4,
   "source": [
    "from decimal import Decimal\r\n",
    "Decimal('7.25') / Decimal(100)\r\n",
    "Decimal(7.25) / Decimal(100)\r\n",
    "Decimal('7.25') / Decimal('100')"
   ],
   "outputs": [
    {
     "output_type": "execute_result",
     "data": {
      "text/plain": [
       "Decimal('0.0725')"
      ]
     },
     "metadata": {},
     "execution_count": 4
    }
   ],
   "metadata": {}
  },
  {
   "cell_type": "code",
   "execution_count": 5,
   "source": [
    "from decimal import Decimal       # 패키지 decimal(소문자) / 킄ㄹ래스Decimal (대문자)\r\n",
    "# help(Decimal)\r\n",
    "tax_rate         = Decimal('7.25') / Decimal(100)\r\n",
    "purchase_account = Decimal('2.95')\r\n",
    "\r\n",
    "#print(tax_rate)\r\n",
    "print(tax_rate * purchase_account)\r\n",
    "tax_rate * purchase_account\r\n",
    "\r\n",
    "# Decimal을 사용하면 소수점 이하 자릿수까지 정확히 계산된다.\r\n",
    "# float과 decimal을 혼용해서 사용하면 부정학한 값이 나오기때문에 혼용하면 안된다."
   ],
   "outputs": [
    {
     "output_type": "stream",
     "name": "stdout",
     "text": [
      "0.213875\n"
     ]
    },
    {
     "output_type": "execute_result",
     "data": {
      "text/plain": [
       "Decimal('0.213875')"
      ]
     },
     "metadata": {},
     "execution_count": 5
    }
   ],
   "metadata": {}
  },
  {
   "cell_type": "code",
   "execution_count": 6,
   "source": [
    "# 페니가격으로 반올림 한다.\r\n",
    "penny        = Decimal('0.01')\r\n",
    "total_amount = purchase_account + tax_rate * purchase_account\r\n",
    "total_amount.quantize(penny)"
   ],
   "outputs": [
    {
     "output_type": "execute_result",
     "data": {
      "text/plain": [
       "Decimal('3.16')"
      ]
     },
     "metadata": {},
     "execution_count": 6
    }
   ],
   "metadata": {}
  },
  {
   "cell_type": "code",
   "execution_count": 7,
   "source": [
    "# 다른 반올림 규칙\r\n",
    "import decimal\r\n",
    "total_amount.quantize(penny, decimal.ROUND_UP)"
   ],
   "outputs": [
    {
     "output_type": "execute_result",
     "data": {
      "text/plain": [
       "Decimal('3.17')"
      ]
     },
     "metadata": {},
     "execution_count": 7
    }
   ],
   "metadata": {}
  },
  {
   "cell_type": "code",
   "execution_count": 8,
   "source": [
    "# 분수를 정확히 계산하려면 fractions 모듈 사용\r\n",
    "from fractions import Fraction\r\n",
    "sugar_cups   = Fraction('2.5')\r\n",
    "scale_factor = Fraction(5/8)\r\n",
    "\r\n",
    "print(sugar_cups)\r\n",
    "print(scale_factor)\r\n",
    "sugar_cups * scale_factor \r\n",
    "\r\n",
    "\r\n",
    "# 결과값 Fraction(25, 16)는 25/16을 의미한다."
   ],
   "outputs": [
    {
     "output_type": "stream",
     "name": "stdout",
     "text": [
      "5/2\n",
      "5/8\n"
     ]
    },
    {
     "output_type": "execute_result",
     "data": {
      "text/plain": [
       "Fraction(25, 16)"
      ]
     },
     "metadata": {},
     "execution_count": 8
    }
   ],
   "metadata": {}
  },
  {
   "cell_type": "code",
   "execution_count": 9,
   "source": [
    "Fraction(24, 16)\r\n",
    "# 소수 정리? 해줌"
   ],
   "outputs": [
    {
     "output_type": "execute_result",
     "data": {
      "text/plain": [
       "Fraction(3, 2)"
      ]
     },
     "metadata": {},
     "execution_count": 9
    }
   ],
   "metadata": {}
  },
  {
   "cell_type": "markdown",
   "source": [
    "# 부동소수점(float) 근사값\r\n",
    " - 파이선의 float 내장 자료형은 넓은 범위의 값을 표현할 수 있지만 대부분 근삿값이라는 단점이 있다.\r\n",
    " - 일부의 경우(2의 제곱으로 나눌때)에는 Fraction 만큼 정확하지만\r\n",
    " - 그밖의 경우에서는 수학에서의 이상적인 무리수 개념과 비교해 약간의 오차가 발생한다."
   ],
   "metadata": {}
  },
  {
   "cell_type": "code",
   "execution_count": 10,
   "source": [
    "(19/155)*(155/19)\r\n",
    "# 실제 정답은 1이지만 출력은 0.99... 가 나왔다.\r\n",
    "# float을 사용할 경우 반올림 해야 할 때가 많다. 대부분의 계산이 근삿값을 사용한다는 사실을 기억해야한다."
   ],
   "outputs": [
    {
     "output_type": "execute_result",
     "data": {
      "text/plain": [
       "0.9999999999999999"
      ]
     },
     "metadata": {},
     "execution_count": 10
    }
   ],
   "metadata": {}
  },
  {
   "cell_type": "code",
   "execution_count": 11,
   "source": [
    "float_res = (19/155)*(155/19)\r\n",
    "round(float_res, 3) "
   ],
   "outputs": [
    {
     "output_type": "execute_result",
     "data": {
      "text/plain": [
       "1.0"
      ]
     },
     "metadata": {},
     "execution_count": 11
    }
   ],
   "metadata": {}
  },
  {
   "cell_type": "code",
   "execution_count": 12,
   "source": [
    "# float은 근삿값을 사용하기에 정답인 1이안나오고 0.99999 가나왔다. 큰 차이는 아니지만 틀린 값이다. \r\n",
    "# 그렇기에 반올림을해야 적절한 값을 구할 수 있다."
   ],
   "outputs": [],
   "metadata": {}
  },
  {
   "cell_type": "code",
   "execution_count": 13,
   "source": [
    "1 - float_res\r\n",
    "\r\n",
    "# 실제 정답인 1과 float 연산결과와의 오차를 보여준다\r\n",
    "# 즉 float 연산에서는 == 연산자를 사용해서는 안된다."
   ],
   "outputs": [
    {
     "output_type": "execute_result",
     "data": {
      "text/plain": [
       "1.1102230246251565e-16"
      ]
     },
     "metadata": {},
     "execution_count": 13
    }
   ],
   "metadata": {}
  },
  {
   "cell_type": "code",
   "execution_count": 14,
   "source": [
    "total_amount, (sugar_cups * scale_factor)"
   ],
   "outputs": [
    {
     "output_type": "execute_result",
     "data": {
      "text/plain": [
       "(Decimal('3.163875'), Fraction(25, 16))"
      ]
     },
     "metadata": {},
     "execution_count": 14
    }
   ],
   "metadata": {}
  },
  {
   "cell_type": "code",
   "execution_count": 15,
   "source": [
    "print(float(total_amount))\r\n",
    "print(float(sugar_cups * scale_factor))"
   ],
   "outputs": [
    {
     "output_type": "stream",
     "name": "stdout",
     "text": [
      "3.163875\n",
      "1.5625\n"
     ]
    }
   ],
   "metadata": {}
  },
  {
   "cell_type": "markdown",
   "source": [
    " - Decimal 값이나 Fraction 값을 float (Decimal | Fraction >> float)으로 는 가능하지만\r\n",
    " - float에서 Decimal이나 Fraction 값으로 바꾸면 안된다.\r\n",
    "\r\n",
    " - float 내장 자료형과 달리 Fraction은 두개의 정수 값 사이의 정확한 비율이다.\r\n",
    " - Decimal과 Fraction은 아주 큰값을 나타내면서도 표현한계로 인한 오차문제가 발생하지 않는다."
   ],
   "metadata": {}
  },
  {
   "cell_type": "markdown",
   "source": [
    "## 그렇다면 왜 부동소수점을 쓰나?\r\n",
    " - 2가지 이유가 있다.\r\n",
    " - 1. 분수로 계산 가능한 숫자를 전부 나타 낼 수 없다.\r\n",
    " - 1-1. 그렇기에 수학자들은 무리수 개념을 도입했다.\r\n",
    " - 1-2. float 자료형은 수학적인 무리수의 개념과 가장 가깝다.(루트 2는 분수로 나타낼 수 없다.)\r\n",
    " - 2. 부동소수점 float은 계산속도가 매우 빠르다"
   ],
   "metadata": {}
  },
  {
   "cell_type": "markdown",
   "source": [
    "## math 모듈\r\n",
    " - math 모듈은 부동소수점 수에 사용할 수 있는 함수들을 다양하게 제공한다.\r\n",
    " - 제곱근, 로그, 삼각함수, 감마, 팩토리얼, 가우시안 오차함수 등도 포함된다.\r\n",
    " - math.fsum() 함수는 내장함수인 sum() 보다 더 신중하게 부동소수점 수의 합계를 계산하기때문에\r\n",
    " - 근사값으로 인한 오차발생이 덜하다.\r\n",
    " - 또한 math.isclose() 함수는 두개의 부동소수점 값이 거의 같은 값인지 비교할 수 있다."
   ],
   "metadata": {}
  },
  {
   "cell_type": "code",
   "execution_count": 19,
   "source": [
    "import math\r\n",
    "print((19/155) * (155/19) == 1.0)\r\n",
    "print(math.isclose((19/155) * (155/19), 1))"
   ],
   "outputs": [
    {
     "output_type": "stream",
     "name": "stdout",
     "text": [
      "False\n",
      "True\n"
     ]
    }
   ],
   "metadata": {}
  },
  {
   "cell_type": "markdown",
   "source": [
    " - math 함수는 부동 소수점 수를 유의미하게 비교할 수 있는 방법을 제공한다.\r\n",
    " - 파이썬은 복소수도 다룰 수 있다.\r\n",
    " - 복소수는 실수부와 허수부로 구성된다.\r\n",
    " - 복소수 3.14 +2.78루트-1을 파이썬으로 나타내면 3.14+2.78j가 된다.\r\n",
    " - 파이썬은 부동소수점 수와 복소수를 쉽게 변환할 수 있다.\r\n",
    " - 복소수에 사용할 수 있는 연산자들이 제공되기 때문이다.\r\n",
    "\r\n",
    " - cmath는 복소수를 지원하는 패키지이다. 예를들어 cmath.sqrt() 함수는 음수의 제곱근을 계산할 때 예외를 발생시키지 않고\r\n",
    " - 복소수 값을 반환한다."
   ],
   "metadata": {}
  },
  {
   "cell_type": "code",
   "execution_count": 20,
   "source": [
    "print(math.sqrt(-2))"
   ],
   "outputs": [
    {
     "output_type": "error",
     "ename": "ValueError",
     "evalue": "math domain error",
     "traceback": [
      "\u001b[1;31m---------------------------------------------------------------------------\u001b[0m",
      "\u001b[1;31mValueError\u001b[0m                                Traceback (most recent call last)",
      "\u001b[1;32m<ipython-input-20-004d4108be9c>\u001b[0m in \u001b[0;36m<module>\u001b[1;34m\u001b[0m\n\u001b[0;32m      1\u001b[0m \u001b[1;32mimport\u001b[0m \u001b[0mcmath\u001b[0m\u001b[1;33m\u001b[0m\u001b[1;33m\u001b[0m\u001b[0m\n\u001b[1;32m----> 2\u001b[1;33m \u001b[0mprint\u001b[0m\u001b[1;33m(\u001b[0m\u001b[0mmath\u001b[0m\u001b[1;33m.\u001b[0m\u001b[0msqrt\u001b[0m\u001b[1;33m(\u001b[0m\u001b[1;33m-\u001b[0m\u001b[1;36m2\u001b[0m\u001b[1;33m)\u001b[0m\u001b[1;33m)\u001b[0m\u001b[1;33m\u001b[0m\u001b[1;33m\u001b[0m\u001b[0m\n\u001b[0m",
      "\u001b[1;31mValueError\u001b[0m: math domain error"
     ]
    }
   ],
   "metadata": {}
  },
  {
   "cell_type": "code",
   "execution_count": 21,
   "source": [
    "import cmath\r\n",
    "print(cmath.sqrt(-2))"
   ],
   "outputs": [
    {
     "output_type": "stream",
     "name": "stdout",
     "text": [
      "1.4142135623730951j\n"
     ]
    }
   ],
   "metadata": {}
  },
  {
   "cell_type": "markdown",
   "source": [
    "# 실수 나눗셈과 정수 나눗셈의 구별\r\n",
    " - 파이썬은 두 종류의 나눗셈 연산자를 제공한다.\r\n",
    "\r\n",
    "## 준비\r\n",
    " - 다음 같은 경우에 나눗셈을 수행한다.\r\n",
    " - 몫과 나머지 : 진법을 변환할 때 혹은 초를 시, 분, 초로 변환할 대 몫과 나머지를 연속적으로 계산해야 한다.\r\n",
    " - 소수점을 포함하는 정확한 시간값이 아니라 정수까지만 시간값을 구하고 그 나머지를 다시 분과 초로 변환하기 때문이다.\r\n",
    "\r\n",
    " - 실제(true) 값 : 전형적인 실수(부동소수점 수) 값이며 몫과 가까운 값이다. 몇개 측정 값의 평균을 구할 때 각각의 값은 정수더라도 평균은 실숫 값으로 구하는 것이보통이다.\r\n",
    "\r\n",
    " - 분수 값: 미국식 도량형인 피트, 인치, 컵 단위를 다룰 대 자주 사용된다. Fraction 클래스가 적합하며 Fraction 객체를 나누면 언제나 정확한 답이 얻어진다."
   ],
   "metadata": {}
  },
  {
   "cell_type": "markdown",
   "source": [
    "### 정수 나누기\r\n",
    " - 몫과 나머지를 구할때는 정수 나눗셈 연산자인 // 와\r\n",
    " - 모듈러스 연산자 % 가 사용된다. 혹은 divmod() 함수를 사용할 수도 있다."
   ],
   "metadata": {}
  },
  {
   "cell_type": "code",
   "execution_count": 22,
   "source": [
    "#  - 초단위 숫자를 3600으로 나누어 시간 값을 얻는다 나머지는 다시 분과 초로 변환될 것이다.\r\n",
    "total_second      = 7385\r\n",
    "hours             = total_second // 3600  # 3600 == 1시간 으로 나눈 몫\r\n",
    "remaining_seconds = total_second % 3600 # 1시간으로 나눈 나머지 값\r\n",
    "print(total_second)\r\n",
    "print(hours)\r\n",
    "print(remaining_seconds)"
   ],
   "outputs": [
    {
     "output_type": "stream",
     "name": "stdout",
     "text": [
      "7385\n",
      "2\n",
      "185\n"
     ]
    }
   ],
   "metadata": {}
  },
  {
   "cell_type": "code",
   "execution_count": 26,
   "source": [
    "# 나머지를 60으로 나눠서 분 값을 얻고 그 나머지는 60보다작은 수로 초가 된다.\r\n",
    "minutes = remaining_seconds // 60\r\n",
    "seconds = remaining_seconds % 60\r\n",
    "f\"현재 시각 {hours}시 {minutes}분 {seconds}초\""
   ],
   "outputs": [
    {
     "output_type": "execute_result",
     "data": {
      "text/plain": [
       "'현재 시각 2시 3분 5초'"
      ]
     },
     "metadata": {},
     "execution_count": 26
    }
   ],
   "metadata": {}
  },
  {
   "cell_type": "code",
   "execution_count": 27,
   "source": [
    "# 다른방법 divmod()함수\r\n",
    "\r\n",
    "# 1. 몫과 나머지를 동시에 계산\r\n",
    "\r\n",
    "total_seconds = 7385\r\n",
    "hours, remaining_seconds = divmod(total_seconds, 3600)\r\n",
    "\r\n",
    "# 2. 다시 몫과 나머지 계산\r\n",
    "minutes, seconds = divmod(remaining_seconds, 60)\r\n",
    "f\"현재 시각 {hours}시 {minutes}분 {seconds}초\""
   ],
   "outputs": [
    {
     "output_type": "execute_result",
     "data": {
      "text/plain": [
       "'현재 시각 2시 3분 5초'"
      ]
     },
     "metadata": {},
     "execution_count": 27
    }
   ],
   "metadata": {}
  },
  {
   "cell_type": "markdown",
   "source": [
    "### 실수 나누기\r\n",
    " - 실수 나눗셈의 결과는 부동소수점 근삿값이다. 예를들어 7385초는 몇시간일까?"
   ],
   "metadata": {}
  },
  {
   "cell_type": "code",
   "execution_count": 28,
   "source": [
    "total_seconds = 7385\r\n",
    "hours =total_seconds / 3600\r\n",
    "round(hours, 4)"
   ],
   "outputs": [
    {
     "output_type": "execute_result",
     "data": {
      "text/plain": [
       "2.0514"
      ]
     },
     "metadata": {},
     "execution_count": 28
    }
   ],
   "metadata": {}
  },
  {
   "cell_type": "markdown",
   "source": [
    "### 분수 나누기\r\n",
    " - Fraction 객체와 정수를 사용해 나눗셈을 할 수 있다/.\r\n",
    " - 결과값은 수학적으로 정확한 유리수가 된다."
   ],
   "metadata": {}
  },
  {
   "cell_type": "code",
   "execution_count": 29,
   "source": [
    "# 1. 적어도 한개의 Fraction 값을 생성한다.\r\n",
    "from fractions import Fraction\r\n",
    "total_seconds = Fraction(7385)\r\n",
    "\r\n",
    "# 2. 이 Fraction 값을 포함해 나눗셈을 한다. 나눗셈에 사용된 다른 정수는 Fraction으로 승격된다.\r\n",
    "hours = total_seconds / 3600\r\n",
    "hours"
   ],
   "outputs": [
    {
     "output_type": "execute_result",
     "data": {
      "text/plain": [
       "Fraction(1477, 720)"
      ]
     },
     "metadata": {},
     "execution_count": 29
    }
   ],
   "metadata": {}
  },
  {
   "cell_type": "code",
   "execution_count": 30,
   "source": [
    "# 3. 필요하다면 부동소수점 근사값으로 변환한다\r\n",
    "round(float(hours), 4)"
   ],
   "outputs": [
    {
     "output_type": "execute_result",
     "data": {
      "text/plain": [
       "2.0514"
      ]
     },
     "metadata": {},
     "execution_count": 30
    }
   ],
   "metadata": {}
  },
  {
   "cell_type": "markdown",
   "source": [
    " - 파이썬에서는 두종류의 나누셈 연산자를 제공한다.\r\n",
    " - 실제 나눗셈 연산자는 / 이고 실제 부동소수점 결과를 생성한다.\r\n",
    " - 두 개의 피연산자가 모두 정수여도 부동소수점으로 결과를 리턴한다.\r\n",
    "\r\n",
    " - 정수(플로어) 나눗셈 연산자 //는 언제나 절삭된(나머지를 버린) 값을 생성한다.\r\n",
    " - 피 연산자가 두개의 정수일 때는 절삭된 몫이 얻어지고\r\n",
    " - 두개의 부동소수점 수일때는 절삭된 부동소수점 값이 얻어진다. "
   ],
   "metadata": {}
  },
  {
   "cell_type": "markdown",
   "source": [
    "# 변경 불가능 객체인 문자열을 재작성 하는 방법"
   ],
   "metadata": {}
  },
  {
   "cell_type": "code",
   "execution_count": 33,
   "source": [
    "#!/usr/bin/python3"
   ],
   "outputs": [],
   "metadata": {}
  },
  {
   "cell_type": "code",
   "execution_count": null,
   "source": [],
   "outputs": [],
   "metadata": {}
  }
 ],
 "metadata": {
  "orig_nbformat": 4,
  "language_info": {
   "name": "python"
  }
 },
 "nbformat": 4,
 "nbformat_minor": 2
}