{
 "cells": [
  {
   "cell_type": "code",
   "execution_count": 1,
   "metadata": {},
   "outputs": [],
   "source": [
    "dataset = ['Braund, Mr. Owen Harris',\n",
    "'Cumings, Mrs. John Bradley (Florence Briggs Thayer)',\n",
    "'Heikkinen, Miss. Laina',\n",
    "'Futrelle, Mrs. Jacques Heath (Lily May Peel)',\n",
    "'Allen, Mr. William Henry',\n",
    "'Moran, Mr. James',\n",
    "'McCarthy, Mr. Timothy J',\n",
    "'Palsson, Master. Gosta Leonard',\n",
    "'Johnson, Mrs. Oscar W (Elisabeth Vilhelmina Berg)',\n",
    "'Nasser, Mrs. Nicholas (Adele Achem)',\n",
    "'Sandstrom, Miss. Marguerite Rut',\n",
    "'Bonnell, Miss. Elizabeth',\n",
    "'Saundercock, Mr. William Henry',\n",
    "'Andersson, Mr. Anders Johan',\n",
    "'Vestrom, Miss. Hulda Amanda Adolfina',\n",
    "'Hewlett, Mrs. (Mary D Kingcome) ',\n",
    "'Rice, Master. Eugene',\n",
    "'Williams, Mr. Charles Eugene',\n",
    "'Vander Planke, Mrs. Julius (Emelia Maria Vandemoortele)',\n",
    "'Masselmani, Mrs. Fatima',\n",
    "'Fynney, Mr. Joseph J',\n",
    "'Beesley, Mr. Lawrence',\n",
    "'McGowan, Miss. Anna \"Annie\"',\n",
    "'Sloper, Mr. William Thompson',\n",
    "'Palsson, Miss. Torborg Danira',\n",
    "'Asplund, Mrs. Carl Oscar (Selma Augusta Emilia Johansson)',\n",
    "'Emir, Mr. Farred Chehab',\n",
    "'Fortune, Mr. Charles Alexander',\n",
    "'Dwyer, Miss. Ellen \"Nellie\"',\n",
    "'Todoroff, Mr. Lalio']"
   ]
  },
  {
   "cell_type": "code",
   "execution_count": 4,
   "metadata": {},
   "outputs": [
    {
     "name": "stdout",
     "output_type": "stream",
     "text": [
      "38\n"
     ]
    }
   ],
   "source": [
    "m_count = 0\n",
    "for data in dataset:\n",
    "    for index in range(len(data)):\n",
    "        if data[index] == 'M':\n",
    "            m_count += 1\n",
    "\n",
    "print(m_count)"
   ]
  },
  {
   "cell_type": "code",
   "execution_count": 3,
   "metadata": {},
   "outputs": [
    {
     "name": "stdout",
     "output_type": "stream",
     "text": [
      "1 0\n"
     ]
    }
   ],
   "source": [
    "H, M = map(int, input().split())\n",
    "if M >= 45 :\n",
    "    print(H,(M-45))\n",
    "elif M < 45 and H > 0:\n",
    "    print((H-1), (M+15))\n",
    "else :\n",
    "    print(23, (M+15))"
   ]
  },
  {
   "cell_type": "code",
   "execution_count": 16,
   "metadata": {},
   "outputs": [
    {
     "name": "stdout",
     "output_type": "stream",
     "text": [
      "A\n",
      "B\n",
      "C\n"
     ]
    }
   ],
   "source": [
    "T = int(input())\n",
    "p_3 = ''\n",
    "P = input().split()\n",
    "while True:\n",
    "    for p in P[1:]:\n",
    "        for j in p:       \n",
    "            print(j)\n",
    "    #        p_2 = p * int(P[0])\n",
    "    #        p_3 += p_2\n",
    "    \n"
   ]
  },
  {
   "cell_type": "code",
   "execution_count": 14,
   "metadata": {},
   "outputs": [
    {
     "name": "stdout",
     "output_type": "stream",
     "text": [
      "A\n",
      "B\n",
      "C\n"
     ]
    }
   ],
   "source": [
    "a = ['2','ABC']\n",
    "for i in a[1:]:\n",
    "    for j in i:\n",
    "        print(j)"
   ]
  },
  {
   "cell_type": "markdown",
   "metadata": {},
   "source": [
    "<a target=\"_blank\" rel=\"noopener noreferrer\" href=\"https://camo.githubusercontent.com/4b5c05634ef9d7c70545cb0862f4e72b101ba40b89dac10d7039814759d39d36/68747470733a2f2f696d672e736869656c64732e696f2f62616467652f6c6963656e73652d43435f42592d2d4e432d677265656e2e7376673f7374796c653d706c6173746963\"><img src=\"https://camo.githubusercontent.com/4b5c05634ef9d7c70545cb0862f4e72b101ba40b89dac10d7039814759d39d36/68747470733a2f2f696d672e736869656c64732e696f2f62616467652f6c6963656e73652d43435f42592d2d4e432d677265656e2e7376673f7374796c653d706c6173746963\" alt=\"license\" data-canonical-src=\"https://img.shields.io/badge/license-CC_BY--NC-green.svg?style=plastic\" style=\"max-width: 100%;\"></a>"
   ]
  },
  {
   "cell_type": "code",
   "execution_count": 1,
   "metadata": {},
   "outputs": [
    {
     "name": "stdout",
     "output_type": "stream",
     "text": [
      "0\n",
      "1\n",
      "2\n"
     ]
    }
   ],
   "source": [
    "for i in range(3):\n",
    "    print(i)"
   ]
  },
  {
   "cell_type": "code",
   "execution_count": 2,
   "metadata": {},
   "outputs": [],
   "source": [
    "input_start, input_end = map(int, input().split())\n",
    "cnt = 0\n",
    "distance = 1\n",
    "move_location = 0\n",
    "semi_end_path = input_end - 1\n"
   ]
  },
  {
   "cell_type": "code",
   "execution_count": null,
   "metadata": {},
   "outputs": [],
   "source": [
    "input_start + distance "
   ]
  },
  {
   "cell_type": "code",
   "execution_count": null,
   "metadata": {},
   "outputs": [],
   "source": [
    "def factorial(n):\n",
    "    result = (n * factorial(n -1))\n",
    "    return result\n",
    "\n",
    "print(factorial(3))"
   ]
  },
  {
   "cell_type": "code",
   "execution_count": 9,
   "metadata": {},
   "outputs": [
    {
     "name": "stdout",
     "output_type": "stream",
     "text": [
      "24\n"
     ]
    }
   ],
   "source": [
    "def factorial(n):\n",
    "    result = 1\n",
    "    if n > 0:\n",
    "        result = n * factorial(n -1)\n",
    "    return result\n",
    "\n",
    "n = int(input())\n",
    "print(factorial(n))"
   ]
  },
  {
   "cell_type": "code",
   "execution_count": 8,
   "metadata": {},
   "outputs": [
    {
     "name": "stdout",
     "output_type": "stream",
     "text": [
      "[['101', '102', '103', '104', '105', '106', '107', '108', '109', '1010', '1011', '1012'], ['201', '202', '203', '204', '205', '206', '207', '208', '209', '2010', '2011', '2012'], ['301', '302', '303', '304', '305', '306', '307', '308', '309', '3010', '3011', '3012'], ['401', '402', '403', '404', '405', '406', '407', '408', '409', '4010', '4011', '4012'], ['501', '502', '503', '504', '505', '506', '507', '508', '509', '5010', '5011', '5012'], ['601', '602', '603', '604', '605', '606', '607', '608', '609', '6010', '6011', '6012']]\n"
     ]
    }
   ],
   "source": [
    "for i in range(int(input())):\n",
    "    the_number_of_floors, the_number_of_rooms, numberth_customer = map(int,input().split())\n",
    "    acm_hotel = list()\n",
    "    acm_hotel_each_floor = list()\n",
    "    for i in range(1, the_number_of_floors + 1):\n",
    "        for j in range(1, the_number_of_rooms + 1):\n",
    "            acm_hotel_each_floor.append(str(i) + '0' +  str(j))\n",
    "        acm_hotel.append(acm_hotel_each_floor)\n",
    "        acm_hotel_each_floor = list()\n",
    "\n",
    "print(acm_hotel)\n",
    "            \n",
    "            "
   ]
  },
  {
   "cell_type": "code",
   "execution_count": 15,
   "metadata": {},
   "outputs": [
    {
     "name": "stdout",
     "output_type": "stream",
     "text": [
      "[['101', '102', '103', '104', '105', '106', '107', '108', '109', '1010', '1011', '1012'],\n",
      " ['201', '202', '203', '204', '205', '206', '207', '208', '209', '2010', '2011', '2012'],\n",
      " ['301', '302', '303', '304', '305', '306', '307', '308', '309', '3010', '3011', '3012'],\n",
      " ['401', '402', '403', '404', '405', '406', '407', '408', '409', '4010', '4011', '4012'],\n",
      " ['501', '502', '503', '504', '505', '506', '507', '508', '509', '5010', '5011', '5012'],\n",
      " ['601', '602', '603', '604', '605', '606', '607', '608', '609', '6010', '6011', '6012']]\n"
     ]
    }
   ],
   "source": [
    "import pprint\n",
    "#pprint.pprint(acm_hotel)\n",
    "pp = pprint.PrettyPrinter(width=100)\n",
    "pp.pprint(acm_hotel)"
   ]
  },
  {
   "cell_type": "code",
   "execution_count": 21,
   "metadata": {},
   "outputs": [
    {
     "name": "stdout",
     "output_type": "stream",
     "text": [
      "402\n",
      "1203\n"
     ]
    }
   ],
   "source": [
    "for i in range(int(input())):\n",
    "    the_number_of_floors, the_number_of_rooms, numberth_customer = map(int,input().split())\n",
    "    result_floor = 0\n",
    "    result_room  = 0\n",
    "    if numberth_customer % the_number_of_floors == 0 :\n",
    "        result_floor = the_number_of_floors * 100\n",
    "        result_room  = numberth_customer // the_number_of_floors\n",
    "    else :\n",
    "        result_floor = (numberth_customer % the_number_of_floors) * 100\n",
    "        result_room  = 1 + (numberth_customer // the_number_of_floors)\n",
    "    print(result_floor + result_room)"
   ]
  },
  {
   "cell_type": "code",
   "execution_count": 20,
   "metadata": {},
   "outputs": [
    {
     "data": {
      "text/plain": [
       "(1, 0, 3, 1)"
      ]
     },
     "execution_count": 20,
     "metadata": {},
     "output_type": "execute_result"
    }
   ],
   "source": [
    "1 % 5, 5 % 1, 3 % 5, 6 % 5"
   ]
  },
  {
   "cell_type": "code",
   "execution_count": 23,
   "metadata": {},
   "outputs": [
    {
     "name": "stdout",
     "output_type": "stream",
     "text": [
      "120\n"
     ]
    }
   ],
   "source": [
    "def factorial(num):\n",
    "    if num > 0:\n",
    "        return num *  factorial(num-1)\n",
    "    else : \n",
    "        return 1\n",
    "\n",
    "print(factorial(5))\n"
   ]
  },
  {
   "cell_type": "code",
   "execution_count": 25,
   "metadata": {},
   "outputs": [
    {
     "name": "stdout",
     "output_type": "stream",
     "text": [
      "11\n",
      "-1\n"
     ]
    },
    {
     "data": {
      "text/plain": [
       "<function __main__.plus(x, y)>"
      ]
     },
     "execution_count": 25,
     "metadata": {},
     "output_type": "execute_result"
    }
   ],
   "source": [
    "# 함수 명을 리스트 요소로 사용가능\n",
    "def plus(x, y):\n",
    "    print(x + y)\n",
    "def minus(x, y):\n",
    "    print(x - y)\n",
    "    \n",
    "test = [plus, minus]\n",
    "test[0](5, 6)\n",
    "test[1](5, 6)\n",
    "test[0]"
   ]
  },
  {
   "cell_type": "code",
   "execution_count": null,
   "metadata": {},
   "outputs": [],
   "source": []
  }
 ],
 "metadata": {
  "interpreter": {
   "hash": "cfcfbbd76e88e95dc35e2ca9edf0c1e882d0553cc29bc4cac8c0f4eabeb0ecb9"
  },
  "kernelspec": {
   "display_name": "Python 3.10.0 64-bit",
   "language": "python",
   "name": "python3"
  },
  "language_info": {
   "codemirror_mode": {
    "name": "ipython",
    "version": 3
   },
   "file_extension": ".py",
   "mimetype": "text/x-python",
   "name": "python",
   "nbconvert_exporter": "python",
   "pygments_lexer": "ipython3",
   "version": "3.9.7"
  },
  "orig_nbformat": 4
 },
 "nbformat": 4,
 "nbformat_minor": 2
}
