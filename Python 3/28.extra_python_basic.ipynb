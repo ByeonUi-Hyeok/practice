{
 "cells": [
  {
   "cell_type": "code",
   "execution_count": 7,
   "source": [
    "a = ['FTP','telnet','SMTP','DNS']\r\n",
    "b = (20, 23, 25, 53)\r\n",
    "c = list(b)\r\n",
    "d = 'abcd'\r\n",
    "e = 'XY'\r\n",
    "print(list(b))\r\n",
    "type(c)"
   ],
   "outputs": [
    {
     "output_type": "stream",
     "name": "stdout",
     "text": [
      "[20, 23, 25, 53]\n"
     ]
    },
    {
     "output_type": "execute_result",
     "data": {
      "text/plain": [
       "list"
      ]
     },
     "metadata": {},
     "execution_count": 7
    }
   ],
   "metadata": {}
  },
  {
   "cell_type": "code",
   "execution_count": 17,
   "source": [
    "f = list(zip(a,b))\r\n",
    "print(f)\r\n",
    "g = tuple(zip(a,b))\r\n",
    "print(g)\r\n",
    "h = tuple(zip(d,a,b))\r\n",
    "print(h)\r\n",
    "i = tuple(zip(d,e))\r\n",
    "print(i)\r\n",
    "# 인자 길이 맞지않으면 짧은 쪽만 맞추고 나머지는 무시!!"
   ],
   "outputs": [
    {
     "output_type": "stream",
     "name": "stdout",
     "text": [
      "[('FTP', 20), ('telnet', 23), ('SMTP', 25), ('DNS', 53)]\n",
      "(('FTP', 20), ('telnet', 23), ('SMTP', 25), ('DNS', 53))\n",
      "(('a', 'FTP', 20), ('b', 'telnet', 23), ('c', 'SMTP', 25), ('d', 'DNS', 53))\n",
      "(('a', 'X'), ('b', 'Y'))\n"
     ]
    }
   ],
   "metadata": {}
  },
  {
   "cell_type": "code",
   "execution_count": 22,
   "source": [
    "j = dict(zip(a,b))\r\n",
    "print(j)\r\n",
    "# zip앞의 파라메타는 키가 뒤 파라메타는 밸류값이 됨\r\n",
    "k = dict(zip(d,e))\r\n",
    "print(k)\r\n",
    "# 길이가 안맞으면 짧은쪽 만 맞추고 나머지는 무시\r\n",
    "\r\n",
    "try:\r\n",
    "    l = dict(zip(a,b,b))\r\n",
    "except ValueError :\r\n",
    "    print(\"딕셔너리에 넣을 zip 인자는 키 벨류 2개여야함\")\r\n",
    "\r\n",
    "\r\n",
    "# 딕셔너리는 2개의 인자만 받을수 있음 3개를 넣으면 오류생김\r\n"
   ],
   "outputs": [
    {
     "output_type": "stream",
     "name": "stdout",
     "text": [
      "{'FTP': 20, 'telnet': 23, 'SMTP': 25, 'DNS': 53}\n",
      "{'a': 'X', 'b': 'Y'}\n",
      "딕셔너리에 넣을 zip 인자는 키 벨류 2개여야함\n"
     ]
    }
   ],
   "metadata": {}
  },
  {
   "cell_type": "code",
   "execution_count": 26,
   "source": [
    "print(a)\r\n",
    "m = list(enumerate(a))\r\n",
    "print(m)\r\n",
    "# enumerate 함수는 인덱스와 값을 같이 출력해줌"
   ],
   "outputs": [
    {
     "output_type": "stream",
     "name": "stdout",
     "text": [
      "['FTP', 'telnet', 'SMTP', 'DNS']\n",
      "[(0, 'FTP'), (1, 'telnet'), (2, 'SMTP'), (3, 'DNS')]\n"
     ]
    }
   ],
   "metadata": {}
  },
  {
   "cell_type": "markdown",
   "source": [
    " - list(),tuple(),set(),dict()를 이용해 상호 교환이 가능함\r\n"
   ],
   "metadata": {}
  },
  {
   "cell_type": "code",
   "execution_count": 36,
   "source": [
    "print(a, type(a))\r\n",
    "n = tuple(a)\r\n",
    "print(n, type(n))\r\n",
    "\r\n",
    "o = ['BTS', '뽈빨간사춘기', 'BTS', '블랙핑크']\r\n",
    "p = set(o)\r\n",
    "print(p, type(p))\r\n",
    "# 리스트를 집합으로만들면 중복된 것은 삭제되고 순서 역시 무의미해진다\r\n",
    "\r\n",
    "q = list(p)\r\n",
    "print(q, type(q))\r\n",
    "# 리스트 > 셋(집합) > 리스트 가능(중복제거되고 순서 섞임)\r\n",
    "print(a,b)\r\n",
    "r = dict(zip(a,b))\r\n",
    "print(r, type(r))\r\n",
    "s = list(r)\r\n",
    "print(s, type(s))\r\n",
    "# 딕셔너리를 리스트로 바꾸면 키값만 인자로 들어옴"
   ],
   "outputs": [
    {
     "output_type": "stream",
     "name": "stdout",
     "text": [
      "['FTP', 'telnet', 'SMTP', 'DNS'] <class 'list'>\n",
      "('FTP', 'telnet', 'SMTP', 'DNS') <class 'tuple'>\n",
      "{'블랙핑크', 'BTS', '뽈빨간사춘기'} <class 'set'>\n",
      "['블랙핑크', 'BTS', '뽈빨간사춘기'] <class 'list'>\n",
      "['FTP', 'telnet', 'SMTP', 'DNS'] (20, 23, 25, 53)\n",
      "{'FTP': 20, 'telnet': 23, 'SMTP': 25, 'DNS': 53} <class 'dict'>\n",
      "['FTP', 'telnet', 'SMTP', 'DNS'] <class 'list'>\n"
     ]
    }
   ],
   "metadata": {}
  },
  {
   "cell_type": "code",
   "execution_count": 42,
   "source": [
    "def test_func():\r\n",
    "    print(1)\r\n",
    "    return\r\n",
    "    print('2')\r\n",
    "\r\n",
    "print(test_func() == None)\r\n",
    "test_func()\r\n",
    "\r\n",
    "# 리턴값 아무것도안주면 NOne 반환\r\n",
    "# return 다음에 문장은 인식하지 못함"
   ],
   "outputs": [
    {
     "output_type": "stream",
     "name": "stdout",
     "text": [
      "1\n",
      "True\n",
      "1\n"
     ]
    }
   ],
   "metadata": {}
  },
  {
   "cell_type": "code",
   "execution_count": 46,
   "source": [
    "def test_func2():\r\n",
    "    print(f'전역변수 i+a= {i+a}')\r\n",
    "\r\n",
    "a = 10\r\n",
    "i = 15\r\n",
    "test_func2()\r\n",
    "# 전역변수를 받아쓸수도 있다..."
   ],
   "outputs": [
    {
     "output_type": "stream",
     "name": "stdout",
     "text": [
      "전역변수 i+a= 25\n"
     ]
    }
   ],
   "metadata": {}
  },
  {
   "cell_type": "code",
   "execution_count": 56,
   "source": [
    "def test_func3(i):\r\n",
    "    print(f'전역변수 i+a= {i+a}')\r\n",
    "    return\r\n",
    "\r\n",
    "a = 10\r\n",
    "i = 15\r\n",
    "print(test_func3(10))\r\n",
    "print(\"====\")\r\n",
    "try:\r\n",
    "    print(test_func3())\r\n",
    "except TypeError:\r\n",
    "    print( \" 이렇겐 안됨 \")\r\n",
    "# 전역변수를 받아쓸수도 있다..."
   ],
   "outputs": [
    {
     "output_type": "stream",
     "name": "stdout",
     "text": [
      "전역변수 i+a= 20\n",
      "None\n",
      "====\n",
      " 이렇겐 안됨 \n"
     ]
    }
   ],
   "metadata": {}
  },
  {
   "cell_type": "code",
   "execution_count": 60,
   "source": [
    "def test_func4(a=1,b=2,c=3) :\r\n",
    "    print (a)\r\n",
    "    print (b)\r\n",
    "    print (c)\r\n",
    "print(test_func4())"
   ],
   "outputs": [
    {
     "output_type": "stream",
     "name": "stdout",
     "text": [
      "1\n",
      "2\n",
      "3\n",
      "None\n"
     ]
    }
   ],
   "metadata": {}
  },
  {
   "cell_type": "code",
   "execution_count": 69,
   "source": [
    "test_func4(1,c=100)"
   ],
   "outputs": [
    {
     "output_type": "stream",
     "name": "stdout",
     "text": [
      "1\n",
      "2\n",
      "100\n"
     ]
    }
   ],
   "metadata": {}
  },
  {
   "cell_type": "code",
   "execution_count": null,
   "source": [],
   "outputs": [],
   "metadata": {}
  }
 ],
 "metadata": {
  "orig_nbformat": 4,
  "language_info": {
   "name": "python",
   "version": "3.9.1",
   "mimetype": "text/x-python",
   "codemirror_mode": {
    "name": "ipython",
    "version": 3
   },
   "pygments_lexer": "ipython3",
   "nbconvert_exporter": "python",
   "file_extension": ".py"
  },
  "kernelspec": {
   "name": "python3",
   "display_name": "Python 3.9.1 64-bit ('base': conda)"
  },
  "interpreter": {
   "hash": "26cbe81f990c700cacc7344ce939feb35388ff5140935024bac84d606131ac1b"
  }
 },
 "nbformat": 4,
 "nbformat_minor": 2
}