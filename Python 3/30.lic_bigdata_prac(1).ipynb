{
 "cells": [
  {
   "cell_type": "markdown",
   "metadata": {},
   "source": [
    "# 빅데이터 분석기사 실기 주의점\n",
    "- 자동완성 X (help()함수 사용가능)\n",
    "- 코드 실행시간 1분으로 제한( 복잡한 코드 실행 불가 )\n",
    "- numpy, pnadas, scikit-learn, scipy, xgboost\n",
    "- beautifulsoup4, selenium"
   ]
  },
  {
   "cell_type": "markdown",
   "metadata": {},
   "source": []
  },
  {
   "cell_type": "code",
   "execution_count": null,
   "metadata": {},
   "outputs": [],
   "source": []
  }
 ],
 "metadata": {
  "language_info": {
   "name": "python"
  },
  "orig_nbformat": 4
 },
 "nbformat": 4,
 "nbformat_minor": 2
}
