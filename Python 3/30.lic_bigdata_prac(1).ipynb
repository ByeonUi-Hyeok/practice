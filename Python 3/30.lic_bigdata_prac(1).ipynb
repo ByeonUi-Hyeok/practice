{
 "cells": [
  {
   "cell_type": "markdown",
   "metadata": {},
   "source": [
    "# 빅데이터 분석기사 실기 주의점\n",
    "- 자동완성 X (help()함수 사용가능)\n",
    "- 코드 실행시간 1분으로 제한( 복잡한 코드 실행 불가 )\n",
    "- numpy, pnadas, scikit-learn, scipy, xgboost\n",
    "- beautifulsoup4, selenium"
   ]
  },
  {
   "cell_type": "code",
   "execution_count": 4,
   "metadata": {},
   "outputs": [
    {
     "data": {
      "text/plain": [
       "array([1., 2., 3., 4.])"
      ]
     },
     "execution_count": 4,
     "metadata": {},
     "output_type": "execute_result"
    }
   ],
   "source": [
    "import numpy as np\n",
    "test = np.array([1,2,3,4], float)\n",
    "test"
   ]
  },
  {
   "cell_type": "markdown",
   "metadata": {},
   "source": [
    "# 다차원 배열\n",
    "- ndarray의 모든 원소는 같은 자료형만 사용가능\n",
    "- 배열의 차원을 rank라고 함\n",
    "- 차원의 크기를 튜플로 표시하는 것을 shape\n",
    "- 1차원 배열 = vector / 2차원 배열 = matrix / 3차원 배열 = tensor\n",
    "# 예제 ( 행 2 / 열 3) 배열\n",
    "- rank = 2 (2차원 배열)\n",
    "- shape = (2, 3)\n"
   ]
  },
  {
   "cell_type": "code",
   "execution_count": 14,
   "metadata": {},
   "outputs": [
    {
     "name": "stdout",
     "output_type": "stream",
     "text": [
      " 결과물 \n",
      "testa[-1.2345e+00  2.3456e+00 -3.4567e+00  4.0000e+00  5.6890e+03]\n",
      "testb[ 1.2 -2.3  3.4 -4.5]\n",
      " abs \n",
      "[1.2345e+00 2.3456e+00 3.4567e+00 4.0000e+00 5.6890e+03]\n",
      "[1.2 2.3 3.4 4.5]\n",
      " fabs \n",
      "[1.2345e+00 2.3456e+00 3.4567e+00 4.0000e+00 5.6890e+03]\n",
      "[1.2 2.3 3.4 4.5]\n"
     ]
    }
   ],
   "source": [
    "# 절대값 abs, fabs \n",
    "test_a = [ -1.2345, 2.3456, -3.4567, 4,5689 ]\n",
    "test_b = [ 1.2, -2.3, 3.4, -4.5 ]\n",
    "test_a_arr = np.array(test_a)\n",
    "test_b_arr = np.array(test_b)\n",
    "\n",
    "print(\" 결과물 \")\n",
    "print(f'testa{test_a_arr}')\n",
    "print(f'testb{test_b_arr}')\n",
    "\n",
    "print(\" abs \")\n",
    "print(np.abs(test_a_arr))\n",
    "print(np.abs(test_b_arr))\n",
    "\n",
    "print(\" fabs \") # 복소수가 아닌 경우 빠른 연산을 위해 abs가아닌 fabs 사용\n",
    "print(np.fabs(test_a_arr))\n",
    "print(np.fabs(test_b_arr))"
   ]
  },
  {
   "cell_type": "code",
   "execution_count": 20,
   "metadata": {},
   "outputs": [
    {
     "name": "stdout",
     "output_type": "stream",
     "text": [
      "1 1.0\n",
      "2 1.4142135623730951\n",
      "3 1.7320508075688772\n",
      "4 2.0\n",
      "5 2.23606797749979\n",
      "6 2.449489742783178\n",
      "7 2.6457513110645907\n",
      "8 2.8284271247461903\n",
      "9 3.0\n",
      "10 3.1622776601683795\n",
      "11 3.3166247903554\n",
      "12 3.4641016151377544\n",
      "13 3.605551275463989\n",
      "14 3.7416573867739413\n",
      "15 3.872983346207417\n",
      "16 4.0\n"
     ]
    }
   ],
   "source": [
    "# 제곱근 sqrt\n",
    "test_a = [1,2,3,4,5,6,7,8,9,10,11,12,13,14,15,16]\n",
    "#print(np.sqrt(test_a))\n",
    "for index,value in enumerate(np.sqrt(test_a)):\n",
    "    print( index+1, value )\n"
   ]
  },
  {
   "cell_type": "code",
   "execution_count": 21,
   "metadata": {},
   "outputs": [
    {
     "name": "stdout",
     "output_type": "stream",
     "text": [
      "1 1\n",
      "2 4\n",
      "3 9\n",
      "4 16\n",
      "5 25\n",
      "6 36\n",
      "7 49\n",
      "8 64\n",
      "9 81\n",
      "10 100\n",
      "11 121\n",
      "12 144\n",
      "13 169\n",
      "14 196\n",
      "15 225\n",
      "16 256\n"
     ]
    }
   ],
   "source": [
    "# 제곱 square\n",
    "test_a = [1,2,3,4,5,6,7,8,9,10,11,12,13,14,15,16]\n",
    "\n",
    "for index,value in enumerate(np.square(test_a)):\n",
    "    print( index+1, value )\n"
   ]
  },
  {
   "cell_type": "code",
   "execution_count": 22,
   "metadata": {},
   "outputs": [
    {
     "name": "stdout",
     "output_type": "stream",
     "text": [
      "1 2.718281828459045\n",
      "2 7.38905609893065\n",
      "3 20.085536923187668\n",
      "4 54.598150033144236\n",
      "5 148.4131591025766\n",
      "6 403.4287934927351\n",
      "7 1096.6331584284585\n",
      "8 2980.9579870417283\n",
      "9 8103.083927575384\n",
      "10 22026.465794806718\n",
      "11 59874.14171519782\n",
      "12 162754.79141900392\n",
      "13 442413.3920089205\n",
      "14 1202604.2841647768\n",
      "15 3269017.3724721107\n",
      "16 8886110.520507872\n"
     ]
    }
   ],
   "source": [
    "# 지수 exp \n",
    "# 4의 3제곱에서 4는 밑 3은 지수\n",
    "# 7의 5제곱에서 7은 및 5는 지수\n",
    "\n",
    "test_a = [1,2,3,4,5,6,7,8,9,10,11,12,13,14,15,16]\n",
    "\n",
    "for index,value in enumerate(np.exp(test_a)):\n",
    "    print( index+1, value )\n",
    "\n",
    "\n",
    "\n"
   ]
  },
  {
   "cell_type": "code",
   "execution_count": 24,
   "metadata": {},
   "outputs": [
    {
     "name": "stdout",
     "output_type": "stream",
     "text": [
      "1 0.0\n",
      "2 0.6931471805599453\n",
      "3 1.0986122886681098\n",
      "4 1.3862943611198906\n",
      "5 1.6094379124341003\n",
      "6 1.791759469228055\n",
      "7 1.9459101490553132\n",
      "8 2.0794415416798357\n",
      "9 2.1972245773362196\n",
      "10 2.302585092994046\n",
      "11 2.3978952727983707\n",
      "12 2.4849066497880004\n",
      "13 2.5649493574615367\n",
      "14 2.6390573296152584\n",
      "15 2.70805020110221\n",
      "16 2.772588722239781\n"
     ]
    }
   ],
   "source": [
    "# 로그 log\n",
    "\n",
    "test_a = [1,2,3,4,5,6,7,8,9,10,11,12,13,14,15,16]\n",
    "\n",
    "for index,value in enumerate(np.log(test_a)):\n",
    "    print( index+1, value )\n",
    "\n",
    "\n",
    "\n"
   ]
  },
  {
   "cell_type": "code",
   "execution_count": 25,
   "metadata": {},
   "outputs": [
    {
     "name": "stdout",
     "output_type": "stream",
     "text": [
      "1 2\n",
      "2 4\n",
      "3 6\n",
      "4 8\n",
      "5 10\n",
      "6 12\n",
      "7 14\n",
      "8 16\n",
      "9 18\n",
      "10 20\n",
      "11 22\n",
      "12 24\n",
      "13 26\n",
      "14 28\n",
      "15 30\n",
      "16 32\n"
     ]
    }
   ],
   "source": [
    "# 배열의 덧셈 add\n",
    "\n",
    "test_a = [1,2,3,4,5,6,7,8,9,10,11,12,13,14,15,16]\n",
    "test_b = [1,2,3,4,5,6,7,8,9,10,11,12,13,14,15,16]\n",
    "\n",
    "for index,value in enumerate(np.add(test_a, test_b)):\n",
    "    print( index+1, value )\n",
    "\n",
    "\n",
    "\n"
   ]
  },
  {
   "cell_type": "code",
   "execution_count": 26,
   "metadata": {},
   "outputs": [
    {
     "name": "stdout",
     "output_type": "stream",
     "text": [
      "1 0\n",
      "2 0\n",
      "3 0\n",
      "4 0\n",
      "5 0\n",
      "6 0\n",
      "7 0\n",
      "8 0\n",
      "9 0\n",
      "10 0\n",
      "11 0\n",
      "12 0\n",
      "13 0\n",
      "14 0\n",
      "15 0\n",
      "16 0\n"
     ]
    }
   ],
   "source": [
    "# 배열의 차 subtract\n",
    "\n",
    "test_a = [1,2,3,4,5,6,7,8,9,10,11,12,13,14,15,16]\n",
    "test_b = [1,2,3,4,5,6,7,8,9,10,11,12,13,14,15,16]\n",
    "\n",
    "for index,value in enumerate(np.subtract(test_a, test_b)):\n",
    "    print( index+1, value )\n",
    "\n",
    "\n",
    "\n"
   ]
  },
  {
   "cell_type": "code",
   "execution_count": 27,
   "metadata": {},
   "outputs": [
    {
     "name": "stdout",
     "output_type": "stream",
     "text": [
      "1 1\n",
      "2 4\n",
      "3 9\n",
      "4 16\n",
      "5 25\n",
      "6 36\n",
      "7 49\n",
      "8 64\n",
      "9 81\n",
      "10 100\n",
      "11 121\n",
      "12 144\n",
      "13 169\n",
      "14 196\n",
      "15 225\n",
      "16 256\n"
     ]
    }
   ],
   "source": [
    "# 배열의 곱 multiply\n",
    "\n",
    "test_a = [1,2,3,4,5,6,7,8,9,10,11,12,13,14,15,16]\n",
    "test_b = [1,2,3,4,5,6,7,8,9,10,11,12,13,14,15,16]\n",
    "\n",
    "for index,value in enumerate(np.multiply(test_a, test_b)):\n",
    "    print( index+1, value )\n",
    "\n",
    "\n",
    "\n"
   ]
  },
  {
   "cell_type": "code",
   "execution_count": null,
   "metadata": {},
   "outputs": [],
   "source": []
  }
 ],
 "metadata": {
  "interpreter": {
   "hash": "cfcfbbd76e88e95dc35e2ca9edf0c1e882d0553cc29bc4cac8c0f4eabeb0ecb9"
  },
  "kernelspec": {
   "display_name": "Python 3.10.0 64-bit",
   "language": "python",
   "name": "python3"
  },
  "language_info": {
   "codemirror_mode": {
    "name": "ipython",
    "version": 3
   },
   "file_extension": ".py",
   "mimetype": "text/x-python",
   "name": "python",
   "nbconvert_exporter": "python",
   "pygments_lexer": "ipython3",
   "version": "3.10.0"
  },
  "orig_nbformat": 4
 },
 "nbformat": 4,
 "nbformat_minor": 2
}
