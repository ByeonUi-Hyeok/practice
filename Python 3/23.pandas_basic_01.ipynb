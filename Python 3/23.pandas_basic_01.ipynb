{
 "cells": [
  {
   "cell_type": "markdown",
   "source": [
    "# 키워드\r\n",
    "\r\n",
    "- 1. 버전확인\r\n",
    "- 2. 시리즈\r\n",
    "- 3. .iloc 인덱서 iloc(행, 열)\r\n",
    "- 4. .iloc 인덱서 대신 인덱싱 사용\r\n",
    "- 5. type 함수 이용 행/열/데이터 속성 및 클래스 확인\r\n",
    "- 6. 인스턴스 관리기준(원본, 사본처리)\r\n",
    "- 7. 시리즈도 데이터프레임과 같을까?\r\n",
    "\r\n",
    "### 데이터프레임.drop(['컬럼,'컬럼2']) == 행단위로 삭제한다 세로로\r\n",
    "### 그렇기때문에 axis=1 해서 열기준이라고 명시해야함\r\n",
    "### 데이터프레임.drop(['컬럼,'컬럼2'],axis=1)"
   ],
   "metadata": {}
  },
  {
   "cell_type": "code",
   "execution_count": 14,
   "source": [
    "# 판다스 가져오기 및 별칭 설정\r\n",
    "import pandas as pd\r\n",
    "import numpy as np\r\n",
    "# 판다스 버전확인\r\n",
    "pd.__version__"
   ],
   "outputs": [
    {
     "output_type": "execute_result",
     "data": {
      "text/plain": [
       "'1.2.4'"
      ]
     },
     "metadata": {},
     "execution_count": 14
    }
   ],
   "metadata": {}
  },
  {
   "cell_type": "markdown",
   "source": [
    "## 판다스 시리즈\r\n",
    " - 판다스의 시리즈는 1차원 벡터이다.\r\n",
    " - 1차원 벡터이므로 파이썬 리스트를 넣으면 만들 수 있다.\r\n",
    " - 그러나 파이썬 리스트와 달리 단일 자료형만 들어간다.(배열이기 때문에)"
   ],
   "metadata": {}
  },
  {
   "cell_type": "code",
   "execution_count": 81,
   "source": [
    "# 자료형을 명기하지 않았을 때는 내부적으로 원소 값을 보고 추론해 가장 적절한 자료형을 선택한다.\r\n",
    "ser = pd.Series([1,2,3])\r\n",
    "print(\"=====1번 판다스.시리즈 내부 리스트(정수구성) 직접 삽입=====\")\r\n",
    "print(ser)\r\n",
    "\r\n",
    "a = [1,2,3,4,5]\r\n",
    "ser2 = pd.Series(a)\r\n",
    "print(\"=====2번 판다스.시리즈 내부 리스트(정수구성) 변수 삽입=====\")\r\n",
    "print(ser2)"
   ],
   "outputs": [
    {
     "output_type": "stream",
     "name": "stdout",
     "text": [
      "=====1번 판다스.시리즈 내부 리스트(정수구성) 직접 삽입=====\n",
      "0    1\n",
      "1    2\n",
      "2    3\n",
      "dtype: int64\n",
      "=====2번 판다스.시리즈 내부 리스트(정수구성) 변수 삽입=====\n",
      "0    1\n",
      "1    2\n",
      "2    3\n",
      "3    4\n",
      "4    5\n",
      "dtype: int64\n"
     ]
    }
   ],
   "metadata": {}
  },
  {
   "cell_type": "code",
   "execution_count": 82,
   "source": [
    "b = ['1',2,'3',4,'5']\r\n",
    "ser3 = pd.Series(a)\r\n",
    "print(\"=====3번 판다스.시리즈 내부 리스트(정수 + 문자열 구성) 변수 삽입=====\")\r\n",
    "print(ser3)\r\n",
    "\r\n",
    "c = [1,'2',3,'4',5]\r\n",
    "ser4 = pd.Series(c)\r\n",
    "print(\"=====4번 판다스.시리즈 내부 리스트(정수 + 문자열 구성) 변수 삽입=====\")\r\n",
    "print(ser4)\r\n",
    "\r\n",
    "# 결과분석\r\n",
    "# ser3은 정수, ser4는 문자의 결과가 나왔다. 무슨기준인걸까?\r\n",
    "# 시리즈는 배열이다 == 배열은 단일 타입 즉 인트+문자열이라고해도 단일 타입으로 들어간다."
   ],
   "outputs": [
    {
     "output_type": "stream",
     "name": "stdout",
     "text": [
      "=====3번 판다스.시리즈 내부 리스트(정수 + 문자열 구성) 변수 삽입=====\n",
      "0    1\n",
      "1    2\n",
      "2    3\n",
      "3    4\n",
      "4    5\n",
      "dtype: int64\n",
      "=====4번 판다스.시리즈 내부 리스트(정수 + 문자열 구성) 변수 삽입=====\n",
      "0    1\n",
      "1    2\n",
      "2    3\n",
      "3    4\n",
      "4    5\n",
      "dtype: object\n"
     ]
    }
   ],
   "metadata": {}
  },
  {
   "cell_type": "markdown",
   "source": [
    "## 판다스 시리즈 덧셈 연산\r\n",
    " - 시리즈 객체를 연산자를 통해 연산을 하면 계산된 결과는 !!새로운 시리즈!! 객체로 반환된다.\r\n",
    " - 기존 시리즈의 값을 변경하지 않고 새로운 객체를 만들어서 반환하는 것이 판다스 모듈의 기본이다.\r\n",
    " - 형식 : 시리즈 + 시리즈 혹은 시리즈변수명.add(시리즈변수명2석"
   ],
   "metadata": {}
  },
  {
   "cell_type": "code",
   "execution_count": 83,
   "source": [
    "print(\"===ser 원본===\")\r\n",
    "print(ser)\r\n",
    "print(\"=== ser + ser 시리즈 덧셈연산===\")\r\n",
    "print(ser + ser)"
   ],
   "outputs": [
    {
     "output_type": "stream",
     "name": "stdout",
     "text": [
      "===ser 원본===\n",
      "0    1\n",
      "1    2\n",
      "2    3\n",
      "dtype: int64\n",
      "=== ser + ser 시리즈 덧셈연산===\n",
      "0    2\n",
      "1    4\n",
      "2    6\n",
      "dtype: int64\n"
     ]
    }
   ],
   "metadata": {}
  },
  {
   "cell_type": "code",
   "execution_count": 84,
   "source": [
    "print(\"===ser 원본===\")\r\n",
    "print(ser)\r\n",
    "print(\"===ser2 원본===\")\r\n",
    "print(ser2)\r\n",
    "print(\"=== ser + ser2 시리즈 덧셈연산===\")\r\n",
    "print(ser + ser2)\r\n",
    "\r\n",
    "# 결과분석\r\n",
    "#시리즈의 튜플수가 달라도 연산은 가능함."
   ],
   "outputs": [
    {
     "output_type": "stream",
     "name": "stdout",
     "text": [
      "===ser 원본===\n",
      "0    1\n",
      "1    2\n",
      "2    3\n",
      "dtype: int64\n",
      "===ser2 원본===\n",
      "0    1\n",
      "1    2\n",
      "2    3\n",
      "3    4\n",
      "4    5\n",
      "dtype: int64\n",
      "=== ser + ser2 시리즈 덧셈연산===\n",
      "0    2.0\n",
      "1    4.0\n",
      "2    6.0\n",
      "3    NaN\n",
      "4    NaN\n",
      "dtype: float64\n"
     ]
    }
   ],
   "metadata": {}
  },
  {
   "cell_type": "code",
   "execution_count": 85,
   "source": [
    "ser.add(ser3)\r\n",
    "# 시리즈.add(시리즈) 함수로도 연산이 가능하다."
   ],
   "outputs": [
    {
     "output_type": "execute_result",
     "data": {
      "text/plain": [
       "0    2.0\n",
       "1    4.0\n",
       "2    6.0\n",
       "3    NaN\n",
       "4    NaN\n",
       "dtype: float64"
      ]
     },
     "metadata": {},
     "execution_count": 85
    }
   ],
   "metadata": {}
  },
  {
   "cell_type": "markdown",
   "source": [
    "## 검색과 슬라이싱 처리\r\n",
    " - 파이썬에서 여러원소를 같는 Sequence 자료형은 숫자나 키 값(주로 문자열)을 가지고 검색한다.\r\n",
    " - 파이썬에서 특정 부분을 검색하려면 슬라이싱을 사용한다.\r\n",
    " - 그러나 판다스에서는 행과 열에 별도의 이름인 레이블을 추가할 수 있으며 이를 사용해 인덱싱,슬라이싱이 가능하다."
   ],
   "metadata": {}
  },
  {
   "cell_type": "code",
   "execution_count": 86,
   "source": [
    "a   = [1,2,3]\r\n",
    "ser = pd.Series(a)\r\n",
    "print(\"=== 시리즈 ser ===\")\r\n",
    "print(ser)\r\n",
    "df  = pd.DataFrame(ser)\r\n",
    "print(\"=====데이터프레임(시리즈)=====\")\r\n",
    "df"
   ],
   "outputs": [
    {
     "output_type": "stream",
     "name": "stdout",
     "text": [
      "=== 시리즈 ser ===\n",
      "0    1\n",
      "1    2\n",
      "2    3\n",
      "dtype: int64\n",
      "=====데이터프레임(시리즈)=====\n"
     ]
    },
    {
     "output_type": "execute_result",
     "data": {
      "text/plain": [
       "   0\n",
       "0  1\n",
       "1  2\n",
       "2  3"
      ],
      "text/html": [
       "<div>\n",
       "<style scoped>\n",
       "    .dataframe tbody tr th:only-of-type {\n",
       "        vertical-align: middle;\n",
       "    }\n",
       "\n",
       "    .dataframe tbody tr th {\n",
       "        vertical-align: top;\n",
       "    }\n",
       "\n",
       "    .dataframe thead th {\n",
       "        text-align: right;\n",
       "    }\n",
       "</style>\n",
       "<table border=\"1\" class=\"dataframe\">\n",
       "  <thead>\n",
       "    <tr style=\"text-align: right;\">\n",
       "      <th></th>\n",
       "      <th>0</th>\n",
       "    </tr>\n",
       "  </thead>\n",
       "  <tbody>\n",
       "    <tr>\n",
       "      <th>0</th>\n",
       "      <td>1</td>\n",
       "    </tr>\n",
       "    <tr>\n",
       "      <th>1</th>\n",
       "      <td>2</td>\n",
       "    </tr>\n",
       "    <tr>\n",
       "      <th>2</th>\n",
       "      <td>3</td>\n",
       "    </tr>\n",
       "  </tbody>\n",
       "</table>\n",
       "</div>"
      ]
     },
     "metadata": {},
     "execution_count": 86
    }
   ],
   "metadata": {}
  },
  {
   "cell_type": "markdown",
   "source": [
    "## 상위 결과분석\r\n",
    " - 데이터프레임을 만들기위해 리스트 => 시리즈(리스트) => 데이터프레임(시리즈)\r\n",
    "\r\n",
    " - 데이터 프레임 객체를 만들기 위해 행과 열의 레이블(행과열의 별도의이름)을 지정하지 않았지만 \r\n",
    " - 행의 인덱스 레이블이 있고 열의 레이블 이름도 잇음을 확인 할 수 있다.\r\n",
    " - 이렇게 레이블에 이름을 지정하지 않으면 행과 열의 레이블이 정수형으로 자동으로 지정된다."
   ],
   "metadata": {}
  },
  {
   "cell_type": "code",
   "execution_count": 87,
   "source": [
    "# 상위의 데이터 프레임의 열이 0이므로\r\n",
    "print(df[0])\r\n",
    "# 조회하면 데이터프레임은 2차원이므로 이보다 낮은찾원인 1차원의 시리즈가 조회되는 것을 볼 수 있다.\r\n",
    "\r\n",
    "# 중요 !! \r\n",
    "# 데이터 프레임에서 인덱스 검색 조회의 기준은 항상 열이다. 슬라이싱은 행을 기준으로 하므로 검색기준을 명확히 이해해야함.!!\r\n",
    "# 대량의 데이터 분석을 할 때에는 변수, 즉 열단위 계산이 많다.\r\n",
    "# 이런 경우 각 변수 단위의 처리를 위해 데이터 프레임의 인덱스 검색 기준은 열로 하는 것이다.\r\n",
    "\r\n",
    "# 결과값을 보면 데이터프레임의 name 속성이 0임을 알 수 있다."
   ],
   "outputs": [
    {
     "output_type": "stream",
     "name": "stdout",
     "text": [
      "0    1\n",
      "1    2\n",
      "2    3\n",
      "Name: 0, dtype: int64\n"
     ]
    }
   ],
   "metadata": {}
  },
  {
   "cell_type": "markdown",
   "source": [
    "## 데이터 프레임 객체에서 행을 기준으로 내부 데이터 검색\r\n",
    " - 데이터 프레임 객체에서 행을 기준으로 내부의 데이터를검색하기 위해 별도의 속성인 인덱서(indexer)를 제공하고\r\n",
    " - 인덱스 검색과 슬라이싱을 통해 행 값들을 조회할 수 있는 기능도 제공   \r\n",
    "------\r\n",
    "\r\n",
    " - iloc 인덱서를 이용해서 0을 조회하면\r\n",
    " - 행기준이므로 행의 암묵적 인덱스를 기준으로 읽는다       \r\n",
    "------\r\n",
    "\r\n",
    " - 실제 데이터 프레임의 행의 레이블은\r\n",
    " - 순서와 상관없이 생성해도 되므로\r\n",
    " - 실제 레이블을 검색하는 .loc 속성과\r\n",
    " - 암묵적인 인덱스로 검색하는 .iloc\r\n",
    " - 두가지를 제공한다.        \r\n",
    "------\r\n",
    "\r\n",
    " - 행단위로 검색해도  2차원인 데이터 프레임이 하나의 차원으로 축소된 1차원의 시리즈가 만들어 진다."
   ],
   "metadata": {}
  },
  {
   "cell_type": "code",
   "execution_count": 88,
   "source": [
    "print(\"=== df 원본 ===\")\r\n",
    "df"
   ],
   "outputs": [
    {
     "output_type": "stream",
     "name": "stdout",
     "text": [
      "=== df 원본 ===\n"
     ]
    },
    {
     "output_type": "execute_result",
     "data": {
      "text/plain": [
       "   0\n",
       "0  1\n",
       "1  2\n",
       "2  3"
      ],
      "text/html": [
       "<div>\n",
       "<style scoped>\n",
       "    .dataframe tbody tr th:only-of-type {\n",
       "        vertical-align: middle;\n",
       "    }\n",
       "\n",
       "    .dataframe tbody tr th {\n",
       "        vertical-align: top;\n",
       "    }\n",
       "\n",
       "    .dataframe thead th {\n",
       "        text-align: right;\n",
       "    }\n",
       "</style>\n",
       "<table border=\"1\" class=\"dataframe\">\n",
       "  <thead>\n",
       "    <tr style=\"text-align: right;\">\n",
       "      <th></th>\n",
       "      <th>0</th>\n",
       "    </tr>\n",
       "  </thead>\n",
       "  <tbody>\n",
       "    <tr>\n",
       "      <th>0</th>\n",
       "      <td>1</td>\n",
       "    </tr>\n",
       "    <tr>\n",
       "      <th>1</th>\n",
       "      <td>2</td>\n",
       "    </tr>\n",
       "    <tr>\n",
       "      <th>2</th>\n",
       "      <td>3</td>\n",
       "    </tr>\n",
       "  </tbody>\n",
       "</table>\n",
       "</div>"
      ]
     },
     "metadata": {},
     "execution_count": 88
    }
   ],
   "metadata": {}
  },
  {
   "cell_type": "code",
   "execution_count": 89,
   "source": [
    "df.iloc[0]\r\n",
    "#  iloc 사용했으므로 행검색이다. 그리고  행의 암묵적인 인덱스 기준으로(0,1,2 ... ) 0행 즉 첫번재 행을 가져왔다."
   ],
   "outputs": [
    {
     "output_type": "execute_result",
     "data": {
      "text/plain": [
       "0    1\n",
       "Name: 0, dtype: int64"
      ]
     },
     "metadata": {},
     "execution_count": 89
    }
   ],
   "metadata": {}
  },
  {
   "cell_type": "code",
   "execution_count": 90,
   "source": [
    "print(df.iloc[1,0])\r\n",
    "# 더 차원을 축소해서 데이터를 검색하려면 .iloc 인덱서(indexer)의 행과열에 정수 0을 넣는다.\r\n",
    "# 데이터프레임.iloc[행,열]\r\n",
    "# df.iloc[1,0] 은 1행 0 열 == 2가 출력된다.a\r\n",
    "# 추가로\r\n",
    "# df.iloc[0,0] == 1, df.iloc[1,0] == 2, df.iloc[2,0] == 3\r\n",
    "\r\n",
    "for i in range(0, 3):\r\n",
    "    print(f'.iloc인덱서 [{i},0]은 {df.iloc[i,0]}') #열은 1개 밖에없기때문에(시리즈) 0밖에 넣을 수 없다."
   ],
   "outputs": [
    {
     "output_type": "stream",
     "name": "stdout",
     "text": [
      "2\n",
      ".iloc인덱서 [0,0]은 1\n",
      ".iloc인덱서 [1,0]은 2\n",
      ".iloc인덱서 [2,0]은 3\n"
     ]
    }
   ],
   "metadata": {}
  },
  {
   "cell_type": "code",
   "execution_count": 91,
   "source": [
    "# 리스트 검색하듯 인덱싱 연산자 역시 사용 가능하다.\r\n",
    "for i in range(0, 3):\r\n",
    "    print(f'인덱싱 df[0][{i}]은 {df[0][i]}') # 열은 1개 밖에없기때문에(시리즈) 0밖에 넣을 수 없다.\r\n",
    "                                             # 주의점은 .iloc 인덱싱과 행과 열이 반대이다.\r\n",
    "\r\n",
    "# .iloc 인덱서를 쓰는 이유는 인덱싱으로 검색하면 인덱스와 시리즈를 같이 출력할 수 없다.\r\n",
    "# 데이터프레임 전체를 출력하거나 행 하나밖에 출력할 수 없다.\r\n",
    "# 즉 df.iloc[0]의 결과인 >> 0  1  >> 인덱스 / 시리즈0번 인덱스를 출력 할 수 없다는 말이다."
   ],
   "outputs": [
    {
     "output_type": "stream",
     "name": "stdout",
     "text": [
      "인덱싱 df[0][0]은 1\n",
      "인덱싱 df[0][1]은 2\n",
      "인덱싱 df[0][2]은 3\n"
     ]
    }
   ],
   "metadata": {}
  },
  {
   "cell_type": "code",
   "execution_count": 92,
   "source": [
    "print(\"데이터프레임 인덱싱[0] == 1 행 출력\")\r\n",
    "print(df[0])\r\n",
    "print()\r\n",
    "print(\"데이터프레임 인덱싱[0][0] == 1 행 1 열 출력\")\r\n",
    "print(df[0][0])\r\n",
    "\r\n",
    "# 결과 분석\r\n",
    "# 인덱싱으로 1행만 출력하고 싶었지만 시리즈(데이터프레임) 전체가 나왔음.\r\n",
    "# 1행 1열만 출력은 가능하나. 1행의 인덱스 + value 출력 불가"
   ],
   "outputs": [
    {
     "output_type": "stream",
     "name": "stdout",
     "text": [
      "데이터프레임 인덱싱[0] == 1 행 출력\n",
      "0    1\n",
      "1    2\n",
      "2    3\n",
      "Name: 0, dtype: int64\n",
      "\n",
      "데이터프레임 인덱싱[0][0] == 1 행 1 열 출력\n",
      "1\n"
     ]
    }
   ],
   "metadata": {}
  },
  {
   "cell_type": "code",
   "execution_count": 93,
   "source": [
    "a = [\r\n",
    "    [1,2,3],\r\n",
    "    [4,5,6],\r\n",
    "    [7,8,9]\r\n",
    "]\r\n",
    "a[0]"
   ],
   "outputs": [
    {
     "output_type": "execute_result",
     "data": {
      "text/plain": [
       "[1, 2, 3]"
      ]
     },
     "metadata": {},
     "execution_count": 93
    }
   ],
   "metadata": {}
  },
  {
   "cell_type": "markdown",
   "source": [
    "# 행과 열에 대한 인덱스 정보관리\r\n",
    " - 판다스의 클리스에 대한 내부 정보에 접근할수 있는 인덱스는 별도의 클래스임.\r\n",
    " - 인덱스는 내부 정보를 별도로 관리하면서 정보를 연결해 특정 원소값과 부분 집합을 처리할 수있는 구조를 구성합니다.\r\n",
    " - 데이터 처리는 넘파이의 클래스로 처리하므로 넘파이 모듈과의 연계성도 그대로 유지한다."
   ],
   "metadata": {}
  },
  {
   "cell_type": "code",
   "execution_count": 94,
   "source": [
    "# 하나의 데이터 프레임을 만들 때에는 행(index), 열(columns) 등 기본으로 3개의 매개변수가 있고 이를 전부 인자로 전달한다.\r\n",
    "df = pd.DataFrame(\r\n",
    "    data=[[0,1,2],[3,4,5]], \r\n",
    "    index=list('ab'),         # 문자열을 리스트에 넣으면 한 문자씩 쪼개짐 == ['a', 'b']\r\n",
    "    columns=list('cde'))      # 문자열을 리스트에 넣으면 한 문자씩 쪼개짐 == ['c', 'd', 'e']\r\n",
    "\r\n",
    "df\r\n",
    "\r\n",
    "# 결과 분석\r\n",
    "# 데이터 프레임의 생성결과를 확인하면 행의 레이블('a','b')과 열의 레이블('c','d','e')이 지정되고 내부데이터 원소값((0,1,2)(3,4,5))이 data로 전달되었다."
   ],
   "outputs": [
    {
     "output_type": "execute_result",
     "data": {
      "text/plain": [
       "   c  d  e\n",
       "a  0  1  2\n",
       "b  3  4  5"
      ],
      "text/html": [
       "<div>\n",
       "<style scoped>\n",
       "    .dataframe tbody tr th:only-of-type {\n",
       "        vertical-align: middle;\n",
       "    }\n",
       "\n",
       "    .dataframe tbody tr th {\n",
       "        vertical-align: top;\n",
       "    }\n",
       "\n",
       "    .dataframe thead th {\n",
       "        text-align: right;\n",
       "    }\n",
       "</style>\n",
       "<table border=\"1\" class=\"dataframe\">\n",
       "  <thead>\n",
       "    <tr style=\"text-align: right;\">\n",
       "      <th></th>\n",
       "      <th>c</th>\n",
       "      <th>d</th>\n",
       "      <th>e</th>\n",
       "    </tr>\n",
       "  </thead>\n",
       "  <tbody>\n",
       "    <tr>\n",
       "      <th>a</th>\n",
       "      <td>0</td>\n",
       "      <td>1</td>\n",
       "      <td>2</td>\n",
       "    </tr>\n",
       "    <tr>\n",
       "      <th>b</th>\n",
       "      <td>3</td>\n",
       "      <td>4</td>\n",
       "      <td>5</td>\n",
       "    </tr>\n",
       "  </tbody>\n",
       "</table>\n",
       "</div>"
      ]
     },
     "metadata": {},
     "execution_count": 94
    }
   ],
   "metadata": {}
  },
  {
   "cell_type": "markdown",
   "source": [
    "# 결과 분석\r\n",
    " - 생성된 데이터 프레임의 결과를 보며 2행 3열의 정보를 가진다는 것을 알 수 있다.\r\n",
    " - 행, 열의 레이블 정보를 관리하는 속성인 index, columns가 어떤 클래스로 만들어 졌는지 확인해야함.\r\n",
    "     - ex : type(df.index) , type(df.columns)\r\n",
    " - 내부 데이터(values)를 관리하는 속성의 자료형 확인해야 함\r\n",
    "     - ex : type(df.values)\r\n",
    " - 참고로 type 클래스는 데이터 프레임 등 판다스 클래스의 속성을 다양한 클래스로 내부의 정보를 사람들이 편하게 볼 수 있게 보여줌"
   ],
   "metadata": {}
  },
  {
   "cell_type": "code",
   "execution_count": 95,
   "source": [
    "print(\"데이터프레임.인덱스 클래스/속성 확인\")\r\n",
    "print(type(df.index))\r\n",
    "\r\n",
    "print(\"데이터프레임.컬럼스 클래스/속성 확인\")\r\n",
    "print(type(df.columns))\r\n",
    "\r\n",
    "print(\"데이터프레임.밸류즈 클래스/속성 확인\")\r\n",
    "print(type(df.values))\r\n",
    "\r\n",
    "# 결과 분석\r\n",
    "# 레이블의 관리(index, columns)하는 속성은 index 클래스의 인스턴스이고\r\n",
    "# 데이터를 관리(values)하는 속성은 numpy클래스의 ndarray라는 것을 알 수 있다."
   ],
   "outputs": [
    {
     "output_type": "stream",
     "name": "stdout",
     "text": [
      "데이터프레임.인덱스 클래스/속성 확인\n",
      "<class 'pandas.core.indexes.base.Index'>\n",
      "데이터프레임.컬럼스 클래스/속성 확인\n",
      "<class 'pandas.core.indexes.base.Index'>\n",
      "데이터프레임.밸류즈 클래스/속성 확인\n",
      "<class 'numpy.ndarray'>\n"
     ]
    }
   ],
   "metadata": {}
  },
  {
   "cell_type": "code",
   "execution_count": 96,
   "source": [
    "# 데이터 프레임에서 행과 축을 기반으로 데이터를 접근하기 위한 속성인 indexer(인덱서)의 속성/클래스\r\n",
    "print(\"인덱서 .iloc의 자료형/클래스/속성\")\r\n",
    "print(type(df.iloc))\r\n",
    "\r\n",
    "print(\"인덱서 .loc의 자료형/클래스/속성\")\r\n",
    "print(type(df.loc))\r\n",
    "\r\n",
    "# 결과 분석\r\n",
    "# .iloc, .loc 는 두개가 클래스가 다르다.(_iLocIndexer, _LocIndexer )"
   ],
   "outputs": [
    {
     "output_type": "stream",
     "name": "stdout",
     "text": [
      "인덱서 .iloc의 자료형/클래스/속성\n",
      "<class 'pandas.core.indexing._iLocIndexer'>\n",
      "인덱서 .loc의 자료형/클래스/속성\n",
      "<class 'pandas.core.indexing._LocIndexer'>\n"
     ]
    }
   ],
   "metadata": {}
  },
  {
   "cell_type": "markdown",
   "source": [
    "## 인스턴스 관리기준\r\n",
    " - 판다스 모듈은 파이썬에서 클래스로 인스턴스를 만드는 것과 같다.\r\n",
    " - 그러나 실제 연산을 처리할 때는 파이썬과 달리 내부 원소를 갱신하는 것이아니라 새로운 인스턴스를 만든다.\r\n",
    "    - 필요한 경우 기존 인스턴스 내부를 갱신하기 위해 메소드 내부의 인스턴스에 지정해서 처리해야함.\r\n",
    "    - 기존 인스턴스 내부를 갱신하기보다 새롭게 만들어서 처리하는것이 더빠르기 때문에 판다스에는 이런 기준이 있음.\r\n",
    " - 인스턴스를 다른 변수에 할당을 할 경우에도 기존 인스턴스의 레퍼런스를 공유해 처리하는 구조이다.\r\n",
    "    - 이를 별칭(alias)이라 하고 실제 새로운 사본을 만들고자 한다면 copy 메소드를 사용해 다른 인스턴스를 생성하는 것 이라 명확히 표시해야함.   \r\n",
    "\r\n",
    "\r\n",
    "## 변수를 할당할 경우 항상 별칭으로 사용\r\n",
    " - 데이터 프레임을 하나 만들고 변수에 할당하여 그 내부의 값을 변경하면 원본에 있는 데이터를 갱신한다.\r\n",
    " - 즉, 사본을 만들어서 사용하지 않으면 항상 원본도 같이 수정됨. "
   ],
   "metadata": {}
  },
  {
   "cell_type": "code",
   "execution_count": 104,
   "source": [
    "test_list = [\r\n",
    "    [1,2,3],\r\n",
    "    [4,5,6],\r\n",
    "    [7,8,9]\r\n",
    "    ]\r\n",
    "df     = pd.DataFrame(test_list, columns=list('abc'))\r\n",
    "df_cop = df\r\n",
    "print(\"=== df 원본 ===\")\r\n",
    "print(df)\r\n",
    "print(\"=== df 카피 ===\")\r\n",
    "print(df_cop)"
   ],
   "outputs": [
    {
     "output_type": "stream",
     "name": "stdout",
     "text": [
      "=== df 원본 ===\n",
      "   a  b  c\n",
      "0  1  2  3\n",
      "1  4  5  6\n",
      "2  7  8  9\n",
      "=== df 카피 ===\n",
      "   a  b  c\n",
      "0  1  2  3\n",
      "1  4  5  6\n",
      "2  7  8  9\n"
     ]
    }
   ],
   "metadata": {}
  },
  {
   "cell_type": "code",
   "execution_count": 118,
   "source": [
    "# 정수 100을 df_cop 데이터프레임의 컬럼 레이블 'a'의 원소들에 치환한다.\r\n",
    "df_cop['a'] = 100 \r\n",
    "# ---------------------------------------------------------------------\r\n",
    "print(\"=== df 원본 ===\")\r\n",
    "print(df)\r\n",
    "print(\"=== df 카피 ===\")\r\n",
    "print(df_cop)\r\n",
    "\r\n",
    "# 결과 분석\r\n",
    "# df_cop의 컬럼레이블 'a'의 원소들 값만 변경 하였으나, 원본인 df의 컬럼레이블 'a'의 원소들 역시 같이 바뀌었다."
   ],
   "outputs": [
    {
     "output_type": "stream",
     "name": "stdout",
     "text": [
      "=== df 원본 ===\n",
      "     a  b  c\n",
      "0  100  2  3\n",
      "1  100  5  6\n",
      "2  100  8  9\n",
      "=== df 카피 ===\n",
      "     a  b  c\n",
      "0  100  2  3\n",
      "1  100  5  6\n",
      "2  100  8  9\n"
     ]
    }
   ],
   "metadata": {}
  },
  {
   "cell_type": "code",
   "execution_count": 117,
   "source": [
    "# 왜 이런 결과가 나온 것인가.?\r\n",
    "\r\n",
    "# 두 개의 변수에 실제 값을 관리하는 속성인 values 안의 base 속성을 확인해 보면 두개의 레퍼런스가 같음을 알 수 있다.\r\n",
    "print(\"=== df원본 values.base ===\")\r\n",
    "print(df.values.base)\r\n",
    "print(\"=== df사본 values.base ===\")\r\n",
    "print(df_cop.values.base)\r\n",
    "print(\"=== df원본 values.base은 df사본 values.base인가? ===\")\r\n",
    "print(df.values.base is df_cop.values.base)\r\n",
    "print(\"id 함수는 각각의 변수별로 할당된 번호를 보여준다.\")\r\n",
    "print(\"즉, id값은 변수마다 고유의 값을 가져야하므로 달라야한다.\")\r\n",
    "print(id(df), id(df_cop))\r\n",
    "# id 값이 같은걸로 이 두개의 변수는 같은 것임을 알 수 있다."
   ],
   "outputs": [
    {
     "output_type": "stream",
     "name": "stdout",
     "text": [
      "=== df원본 values.base ===\n",
      "[[100 100 100]\n",
      " [  2   5   8]\n",
      " [  3   6   9]]\n",
      "=== df사본 values.base ===\n",
      "[[100 100 100]\n",
      " [  2   5   8]\n",
      " [  3   6   9]]\n",
      "=== df원본 values.base은 df사본 values.base인가? ===\n",
      "True\n",
      "id 함수는 각각의 변수별로 할당된 번호를 보여준다.\n",
      "즉, id값은 변수마다 고유의 값을 가져야하므로 달라야한다.\n",
      "2083740164208 2083740164208\n"
     ]
    }
   ],
   "metadata": {}
  },
  {
   "cell_type": "markdown",
   "source": [],
   "metadata": {}
  },
  {
   "cell_type": "code",
   "execution_count": 110,
   "source": [
    "help(id)"
   ],
   "outputs": [
    {
     "output_type": "stream",
     "name": "stdout",
     "text": [
      "Help on built-in function id in module builtins:\n",
      "\n",
      "id(obj, /)\n",
      "    Return the identity of an object.\n",
      "    \n",
      "    This is guaranteed to be unique among simultaneously existing objects.\n",
      "    (CPython uses the object's memory address.)\n",
      "\n"
     ]
    }
   ],
   "metadata": {}
  },
  {
   "cell_type": "markdown",
   "source": [
    "# 연산된 결과는 항상 새로운 인스턴스로 생성\r\n",
    " - 위에서 선택 연산자(EX: df_cop['a'] = 100 )를 사용한 경우 기존 객체의 값을 바뀌었지만.\r\n",
    " - 다른 연산자나 메소드 등의 대부분 연산을 수행할 때에는 기존 원본은 변경하지 않고 새로운 사본을 만든다."
   ],
   "metadata": {}
  },
  {
   "cell_type": "code",
   "execution_count": 119,
   "source": [
    "print(df)"
   ],
   "outputs": [
    {
     "output_type": "stream",
     "name": "stdout",
     "text": [
      "     a  b  c\n",
      "0  100  2  3\n",
      "1  100  5  6\n",
      "2  100  8  9\n"
     ]
    }
   ],
   "metadata": {}
  },
  {
   "cell_type": "code",
   "execution_count": 121,
   "source": [
    "df_cop2 = df + 99\r\n",
    "# 위와 비슷하게 이번에는 선택연산자 말고 \r\n",
    "# df 변소에 있는 데이터 프레임을 가지고 특정 값(99)를 덧셈으로 연산하여 다른 변수 df_cop에 할당 했습니다.\r\n",
    "\r\n",
    "print(\"=== df 원본 ===\")\r\n",
    "print(df)\r\n",
    "print(\"=== df 카피 ===\")\r\n",
    "print(df_cop)\r\n",
    "print(\"=== df 카피2 ===\")\r\n",
    "print(df_cop2)\r\n",
    "\r\n",
    "# 결과 분석\r\n",
    "# 하지만 위의 결과와 다르게 원본의 데이터는 변하지 않았다."
   ],
   "outputs": [
    {
     "output_type": "stream",
     "name": "stdout",
     "text": [
      "=== df 원본 ===\n",
      "     a  b  c\n",
      "0  100  2  3\n",
      "1  100  5  6\n",
      "2  100  8  9\n",
      "=== df 카피 ===\n",
      "     a  b  c\n",
      "0  100  2  3\n",
      "1  100  5  6\n",
      "2  100  8  9\n",
      "=== df 카피2 ===\n",
      "     a    b    c\n",
      "0  199  101  102\n",
      "1  199  104  105\n",
      "2  199  107  108\n"
     ]
    }
   ],
   "metadata": {}
  },
  {
   "cell_type": "code",
   "execution_count": 123,
   "source": [
    "# 왜 이런 결과가 나온 것인가.?\r\n",
    "\r\n",
    "# 두 개의 변수에 실제 값을 관리하는 속성인 values 안의 base 속성을 확인해 보면 두개의 레퍼런스가 다르다는 것을 알 수 있다.\r\n",
    "print(\"=== df원본 values.base ===\")\r\n",
    "print(df.values.base)\r\n",
    "print(\"=== df사본 values.base ===\")\r\n",
    "print(df_cop2.values.base)\r\n",
    "print(\"=== df원본 values.base은 df사본2 values.base인가? ===\")\r\n",
    "print(df.values.base is df_cop2.values.base)\r\n",
    "\r\n",
    "print(id(df), id(df_cop2))\r\n",
    "# id 값이 같은걸로 이 두개의 변수는 다른 변수임을 알 수 있다."
   ],
   "outputs": [
    {
     "output_type": "stream",
     "name": "stdout",
     "text": [
      "=== df원본 values.base ===\n",
      "[[100 100 100]\n",
      " [  2   5   8]\n",
      " [  3   6   9]]\n",
      "=== df사본 values.base ===\n",
      "[[199 199 199]\n",
      " [101 104 107]\n",
      " [102 105 108]]\n",
      "=== df원본 values.base은 df사본2 values.base인가? ===\n",
      "False\n",
      "2083740164208 2083740235376\n"
     ]
    }
   ],
   "metadata": {}
  },
  {
   "cell_type": "markdown",
   "source": [
    " - 변수 df와 df_cop2의 values 속성 안 base를 비교하면 false로 나왔습니다.\r\n",
    " - 이유는 덧셈연산 등 대부분 판다스에서 제공하는 연산은 새로운 사본을 만들어 결과를 제공하므로 변수에 할당하면 새로운 객체가 저장되기 때문입니다.\r\n",
    " - 몇가지 예외가 있지만.\r\n",
    " - 주로 인덱스연산자를 통한 할당은 기존 객체에 값을 변경하거나 열을 추가함(원본을 바꿈)\r\n"
   ],
   "metadata": {}
  },
  {
   "cell_type": "code",
   "execution_count": 127,
   "source": [
    "# 참고 선택연산자 사용해도 copy() 함수 사용하면 다른 객체를 생성함\r\n",
    "df22 = df.copy()\r\n",
    "df22['a'] = 200 \r\n",
    "print(\"=== df 원본 ===\")\r\n",
    "print(df)\r\n",
    "print(\"=== df 카피 ===\")\r\n",
    "print(df22)"
   ],
   "outputs": [
    {
     "output_type": "stream",
     "name": "stdout",
     "text": [
      "=== df 원본 ===\n",
      "     a  b  c\n",
      "0  100  2  3\n",
      "1  100  5  6\n",
      "2  100  8  9\n",
      "=== df 카피 ===\n",
      "     a  b  c\n",
      "0  200  2  3\n",
      "1  200  5  6\n",
      "2  200  8  9\n"
     ]
    }
   ],
   "metadata": {}
  },
  {
   "cell_type": "markdown",
   "source": [
    "## 시리즈는 데이터프레임과 똑같이 처리되는가?"
   ],
   "metadata": {}
  },
  {
   "cell_type": "code",
   "execution_count": 131,
   "source": [
    "import numpy as np\r\n",
    "a = np.arange(4)\r\n",
    "print(a, type(a))"
   ],
   "outputs": [
    {
     "output_type": "stream",
     "name": "stdout",
     "text": [
      "[0 1 2 3] <class 'numpy.ndarray'>\n"
     ]
    }
   ],
   "metadata": {}
  },
  {
   "cell_type": "code",
   "execution_count": 140,
   "source": [
    "series_test1     = pd.Series(index=list('abcd'), data=np.arange(4))\r\n",
    "series_test2     = series_test1\r\n",
    "series_test1_cop = series_test1.copy()\r\n",
    "\r\n",
    "print(\"=== series_test1 ===\")\r\n",
    "print(series_test1)\r\n",
    "print(\"=== series_test2 ===\")\r\n",
    "print(series_test2)\r\n",
    "print(\"=== series_test_cop ===\")\r\n",
    "print(series_test1_cop)"
   ],
   "outputs": [
    {
     "output_type": "stream",
     "name": "stdout",
     "text": [
      "=== series_test1 ===\n",
      "a    0\n",
      "b    1\n",
      "c    2\n",
      "d    3\n",
      "dtype: int32\n",
      "=== series_test2 ===\n",
      "a    0\n",
      "b    1\n",
      "c    2\n",
      "d    3\n",
      "dtype: int32\n",
      "=== series_test_cop ===\n",
      "a    0\n",
      "b    1\n",
      "c    2\n",
      "d    3\n",
      "dtype: int32\n"
     ]
    }
   ],
   "metadata": {}
  },
  {
   "cell_type": "code",
   "execution_count": 138,
   "source": [
    "print(\" series_test1 == series_test2 ? \")\r\n",
    "print( series_test1 is series_test2 )\r\n",
    "print(\" series_test1 == series_test1_cop ? \")\r\n",
    "print( series_test1 is series_test1_cop )\r\n",
    "print(\" id : series_test1, series_test2, series_test3 \")\r\n",
    "print(id(series_test1), id(series_test2),id(series_test1_cop))"
   ],
   "outputs": [
    {
     "output_type": "stream",
     "name": "stdout",
     "text": [
      " series_test1 == series_test2 ? \n",
      "True\n",
      " series_test1 == series_test1_cop ? \n",
      "False\n",
      " id : series_test1, series_test2, series_test3 \n",
      "2083761226512 2083761226512 2083760618560\n"
     ]
    }
   ],
   "metadata": {}
  },
  {
   "cell_type": "markdown",
   "source": [
    "## 결과 분석\r\n",
    " - 결과만 바로 말하자면 series 역시 dataframe과 똑같이 처리된다.\r\n",
    " - 변수2 = 변수1 \r\n",
    " - 변수1을 변수2에 바로 할당을해서 보면 id값이 같다 (같은 객체이다.)\r\n",
    " - 변수3 = 변수1.copy()\r\n",
    " - copy()함수를 사용해서 할당을하고 id값을 보니 다르다. (다른 객체가 생성되어 할당되었다.)"
   ],
   "metadata": {}
  },
  {
   "cell_type": "markdown",
   "source": [
    "## 인덱스 검색과 슬라이싱 처리\r\n",
    " - 파이썬에서의 인덱스 검색/슬라이싱은 대괄호([]) 연산으로 처리한다.\r\n",
    " - 판다스 모듈에는 파이썬에서 제공하는 것 이외에\r\n",
    " - 마스킹(masking)검색, 팬시(fancy)검색 등이 추가되었다.\r\n",
    " - 또 한, 속성인 인덱서(indexer)라는 개념도 추가되어 행 중심으로 검색하는 기능도 지원한다.\r\n",
    " - ** 어떠한 경우라도 대괄호([]) 연산을 이용하려면 실제 __getitem__ 스페셜 메소드가 구현되어 있어야한다. **"
   ],
   "metadata": {}
  },
  {
   "cell_type": "markdown",
   "source": [
    "## 판다스의 클래스인 시리즈 / 데이터프레임 안에는 어떻게 스페셜 메소드인 __getitem__이 만들어 져있는지 / 어떻게 작동하는지\r\n",
    "## __getitem__ 이해하기\r\n",
    " - 판다스 모듈안의 주요클래스에 __getitem__ 스페셜 메소드는 하나의 함수로 구현되어 있다.\r\n",
    " - 판다스에서는 파이썬처럼 클래스의 인스턴스 매소드가 함수로 유지된다.\r\n",
    " - 실제 인스턴스 개체와 매소드가 바인딩되면 메소드로 실행 된다. "
   ],
   "metadata": {}
  },
  {
   "cell_type": "code",
   "execution_count": 144,
   "source": [
    "pd.Series.__getitem__"
   ],
   "outputs": [
    {
     "output_type": "execute_result",
     "data": {
      "text/plain": [
       "<function pandas.core.series.Series.__getitem__(self, key)>"
      ]
     },
     "metadata": {},
     "execution_count": 144
    }
   ],
   "metadata": {}
  },
  {
   "cell_type": "code",
   "execution_count": 145,
   "source": [
    "pd.DataFrame.__getitem__"
   ],
   "outputs": [
    {
     "output_type": "execute_result",
     "data": {
      "text/plain": [
       "<function pandas.core.frame.DataFrame.__getitem__(self, key)>"
      ]
     },
     "metadata": {},
     "execution_count": 145
    }
   ],
   "metadata": {}
  },
  {
   "cell_type": "code",
   "execution_count": 146,
   "source": [
    "pd.Index.__getitem__"
   ],
   "outputs": [
    {
     "output_type": "execute_result",
     "data": {
      "text/plain": [
       "<function pandas.core.indexes.base.Index.__getitem__(self, key)>"
      ]
     },
     "metadata": {},
     "execution_count": 146
    }
   ],
   "metadata": {}
  },
  {
   "cell_type": "code",
   "execution_count": 147,
   "source": [
    "pd.MultiIndex.__getitem__"
   ],
   "outputs": [
    {
     "output_type": "execute_result",
     "data": {
      "text/plain": [
       "<function pandas.core.indexes.multi.MultiIndex.__getitem__(self, key)>"
      ]
     },
     "metadata": {},
     "execution_count": 147
    }
   ],
   "metadata": {}
  },
  {
   "cell_type": "code",
   "execution_count": 148,
   "source": [
    "# 상위의 결과로 __getitem__은 (self, key)  // self는 매소드이기때문에 가짐 // key 파라메터를 가지는 함수임을 알 수 있다. \r\n",
    "# <function pandas.core.indexes.multi.MultiIndex.__getitem__(self, key)>\r\n",
    "# 결과값 제일앞에 function이라고 함수라고 나와 있음."
   ],
   "outputs": [],
   "metadata": {}
  },
  {
   "cell_type": "code",
   "execution_count": 15,
   "source": [
    "df = pd.DataFrame(\r\n",
    "    data=[\r\n",
    "        [1,2,3,4],\r\n",
    "        [5,6,7,8]\r\n",
    "        ],\r\n",
    "    index=list('ab'),\r\n",
    "    columns=list('가나다라'))\r\n",
    "\r\n",
    "df"
   ],
   "outputs": [
    {
     "output_type": "execute_result",
     "data": {
      "text/plain": [
       "   가  나  다  라\n",
       "a  1  2  3  4\n",
       "b  5  6  7  8"
      ],
      "text/html": [
       "<div>\n",
       "<style scoped>\n",
       "    .dataframe tbody tr th:only-of-type {\n",
       "        vertical-align: middle;\n",
       "    }\n",
       "\n",
       "    .dataframe tbody tr th {\n",
       "        vertical-align: top;\n",
       "    }\n",
       "\n",
       "    .dataframe thead th {\n",
       "        text-align: right;\n",
       "    }\n",
       "</style>\n",
       "<table border=\"1\" class=\"dataframe\">\n",
       "  <thead>\n",
       "    <tr style=\"text-align: right;\">\n",
       "      <th></th>\n",
       "      <th>가</th>\n",
       "      <th>나</th>\n",
       "      <th>다</th>\n",
       "      <th>라</th>\n",
       "    </tr>\n",
       "  </thead>\n",
       "  <tbody>\n",
       "    <tr>\n",
       "      <th>a</th>\n",
       "      <td>1</td>\n",
       "      <td>2</td>\n",
       "      <td>3</td>\n",
       "      <td>4</td>\n",
       "    </tr>\n",
       "    <tr>\n",
       "      <th>b</th>\n",
       "      <td>5</td>\n",
       "      <td>6</td>\n",
       "      <td>7</td>\n",
       "      <td>8</td>\n",
       "    </tr>\n",
       "  </tbody>\n",
       "</table>\n",
       "</div>"
      ]
     },
     "metadata": {},
     "execution_count": 15
    }
   ],
   "metadata": {}
  },
  {
   "cell_type": "code",
   "execution_count": 159,
   "source": [
    "print(\"input >> df.loc.__getitem__\")\r\n",
    "print(df.loc.__getitem__)\r\n",
    "\r\n",
    "print(\"input >> dfi.loc.__getitem__\")\r\n",
    "print(df.iloc.__getitem__)\r\n",
    "\r\n",
    "# 결과분석\r\n",
    "# 클래스에서 조회했을때는 함수였지만(<function ~>)\r\n",
    "# 인스턴스(클래스를 변수에 할당)에서 조회하면 메소드(<bound method ~>)로 표시되는 이유는\r\n",
    "# 이번에는 인스턴스 메소드로 전환이 되었기 때문이다."
   ],
   "outputs": [
    {
     "output_type": "stream",
     "name": "stdout",
     "text": [
      "input >> df.loc.__getitem__\n",
      "<bound method _LocationIndexer.__getitem__ of <pandas.core.indexing._LocIndexer object at 0x000001E5298B6E00>>\n",
      "input >> dfi.loc.__getitem__\n",
      "<bound method _LocationIndexer.__getitem__ of <pandas.core.indexing._iLocIndexer object at 0x000001E5298B6E00>>\n"
     ]
    }
   ],
   "metadata": {}
  },
  {
   "cell_type": "code",
   "execution_count": 17,
   "source": [
    "from pprint import pprint\r\n",
    "a = [\r\n",
    "    [1,2,3,4],\r\n",
    "    [5,6,7,8]\r\n",
    "]\r\n",
    "print(\"=== 2차원 리스트 a ===\")\r\n",
    "pprint(a, width=20)\r\n",
    "print()\r\n",
    "print(\"=== 판다스.데이터프레임 ===\")\r\n",
    "df"
   ],
   "outputs": [
    {
     "output_type": "stream",
     "name": "stdout",
     "text": [
      "=== 2차원 리스트 a ===\n",
      "[[1, 2, 3, 4],\n",
      " [5, 6, 7, 8]]\n",
      "\n",
      "=== 판다스.데이터프레임 ===\n"
     ]
    },
    {
     "output_type": "execute_result",
     "data": {
      "text/plain": [
       "   가  나  다  라\n",
       "a  1  2  3  4\n",
       "b  5  6  7  8"
      ],
      "text/html": [
       "<div>\n",
       "<style scoped>\n",
       "    .dataframe tbody tr th:only-of-type {\n",
       "        vertical-align: middle;\n",
       "    }\n",
       "\n",
       "    .dataframe tbody tr th {\n",
       "        vertical-align: top;\n",
       "    }\n",
       "\n",
       "    .dataframe thead th {\n",
       "        text-align: right;\n",
       "    }\n",
       "</style>\n",
       "<table border=\"1\" class=\"dataframe\">\n",
       "  <thead>\n",
       "    <tr style=\"text-align: right;\">\n",
       "      <th></th>\n",
       "      <th>가</th>\n",
       "      <th>나</th>\n",
       "      <th>다</th>\n",
       "      <th>라</th>\n",
       "    </tr>\n",
       "  </thead>\n",
       "  <tbody>\n",
       "    <tr>\n",
       "      <th>a</th>\n",
       "      <td>1</td>\n",
       "      <td>2</td>\n",
       "      <td>3</td>\n",
       "      <td>4</td>\n",
       "    </tr>\n",
       "    <tr>\n",
       "      <th>b</th>\n",
       "      <td>5</td>\n",
       "      <td>6</td>\n",
       "      <td>7</td>\n",
       "      <td>8</td>\n",
       "    </tr>\n",
       "  </tbody>\n",
       "</table>\n",
       "</div>"
      ]
     },
     "metadata": {},
     "execution_count": 17
    }
   ],
   "metadata": {}
  },
  {
   "cell_type": "code",
   "execution_count": 20,
   "source": [
    "print(\"=== input>> df['나'] ===\")\r\n",
    "print(df['나'])\r\n",
    "\r\n",
    "print(\"=== input>> df.__getitem__('나') ===\")\r\n",
    "print(df.__getitem__('나'))\r\n",
    "\r\n",
    "print(\"=== input>> a[0] ===\")\r\n",
    "print(a[0])\r\n",
    "\r\n",
    "print(\"=== input>> a.__getitem__(0) ===\")\r\n",
    "print(a.__getitem__(0))\r\n"
   ],
   "outputs": [
    {
     "output_type": "stream",
     "name": "stdout",
     "text": [
      "=== input>> df['나'] ===\n",
      "a    2\n",
      "b    6\n",
      "Name: 나, dtype: int64\n",
      "=== input>> df.__getitem__('나') ===\n",
      "a    2\n",
      "b    6\n",
      "Name: 나, dtype: int64\n",
      "=== input>> a[0] ===\n",
      "[1, 2, 3, 4]\n",
      "=== input>> a.__getitem__(0) ===\n",
      "[1, 2, 3, 4]\n"
     ]
    }
   ],
   "metadata": {}
  },
  {
   "cell_type": "markdown",
   "source": [
    "## 결과분석\r\n",
    " - 인덱스 검색한 것을 보면 파이썬은 행단위 처리를 기준으로한다.\r\n",
    " - ** 그러나 데이터프레임의 인덱스 검색은 열단위 기준으로 처리한다. **   \r\n",
    "\r\n",
    " \r\n",
    " - 스페셜메소드(special method)(__getitem__)을 직접 실행해도 같은 결과가 나온다.\r\n",
    "     - 즉, 실제 연산자는 모두 스페셜 메소드를 변환해서 작동되는 것임을 알 수 있다.\r\n"
   ],
   "metadata": {}
  },
  {
   "cell_type": "code",
   "execution_count": 23,
   "source": [
    "# 데이터 프레임의 한열을 다른 변수에 저장하면 하나의 시리즈가 만들어 진다.\r\n",
    "df_ser = df['나']\r\n",
    "print(\"=== df_ser === \")\r\n",
    "print(df_ser)\r\n",
    "\r\n",
    "print(\" === input >> df_ser['a'] === \")\r\n",
    "print( df_ser['a'] )\r\n",
    "\r\n",
    "print(\" === input >> df_ser.__getitem__('a') === \")\r\n",
    "print( df_ser.__getitem__('a') )\r\n",
    "\r\n",
    "\r\n",
    "# 시리즈의 인덱스 검색연산자와 스페셜 메소드를 가지고 처리하는 결과가 같다."
   ],
   "outputs": [
    {
     "output_type": "stream",
     "name": "stdout",
     "text": [
      "=== df_ser === \n",
      "a    2\n",
      "b    6\n",
      "Name: 나, dtype: int64\n",
      " === input >> df_ser['a'] === \n",
      "2\n",
      " === input >> df_ser.__getitem__('a') === \n",
      "2\n"
     ]
    }
   ],
   "metadata": {}
  },
  {
   "cell_type": "markdown",
   "source": [
    " - 파이썬에서는 하나의 키 값이 인덱스 번호를 기반으로 한다.\r\n",
    " - ** 반면 판다스에서는 시리즈와 데이터프레임의 레이블 이름으로 인덱스 검색이 가능하다. **\r\n",
    " - 특정 원소들의 값이 True일때는 가져오지만 False일때는 가져오지 않고 \r\n",
    " - 없는 값으로 처리하기 위해 NaN(==None == False)으로 처리되면 정수형 자료형도 실수형 자료형으로 자동으로 변환됨"
   ],
   "metadata": {}
  },
  {
   "cell_type": "code",
   "execution_count": 30,
   "source": [
    "df_ser.__getitem__(df_ser > 3)\r\n",
    "\r\n",
    "\r\n",
    "print(\" === input >> df_ser[df_ser > 3] === \")\r\n",
    "print( df_ser[df_ser > 3] )\r\n",
    "\r\n",
    "print(\" === input >> df_ser.__getitem__(df_ser > 3) === \")\r\n",
    "print( df_ser.__getitem__(df_ser > 3) )\r\n",
    "\r\n",
    "# 결과 분석\r\n",
    "# 조건을 주고 인덱스 검색이 가능하다."
   ],
   "outputs": [
    {
     "output_type": "stream",
     "name": "stdout",
     "text": [
      " === input >> df_ser[df_ser > 3] === \n",
      "b    6\n",
      "Name: 나, dtype: int64\n",
      " === input >> df_ser.__getitem__(df_ser > 3) === \n",
      "b    6\n",
      "Name: 나, dtype: int64\n"
     ]
    }
   ],
   "metadata": {}
  },
  {
   "cell_type": "code",
   "execution_count": null,
   "source": [
    "df[ df > 3 ]\r\n",
    "# df.__getitem__(df > 3) \r\n",
    "# df[(df > 3) == True]\r\n",
    "# 위 3개 다 같은 명령어\r\n",
    "\r\n",
    "# 결과 분석\r\n",
    "# 조건을 줘서 인덱스 검색 할 수 있다.\r\n",
    "# 조건 ==True에 해당하지않은 False 값들 \r\n",
    "# 1,2,3은 NaN으로 대치되고 다른 값들은 자동 실수형으로 변환되었다."
   ],
   "outputs": [],
   "metadata": {}
  },
  {
   "cell_type": "markdown",
   "source": [
    "# 주피터 노트북과 파이썬을 이용한 데이터분석\r\n",
    "## 손에 잡히는 판다스\r\n",
    "### 문용준 지음 _ 2018.11.30 \r\n",
    "#### 비제이퍼블릭 발행\r\n",
    "##### ~ 페이지 20"
   ],
   "metadata": {}
  }
 ],
 "metadata": {
  "orig_nbformat": 4,
  "language_info": {
   "name": "python"
  }
 },
 "nbformat": 4,
 "nbformat_minor": 2
}