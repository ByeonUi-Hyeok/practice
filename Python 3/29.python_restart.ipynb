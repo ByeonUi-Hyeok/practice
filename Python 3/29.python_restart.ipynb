{
 "cells": [
  {
   "cell_type": "markdown",
   "source": [
    "# 주피터 노트북 기본\r\n",
    " - 명령모드 : m\r\n",
    " - 입력모드 : y\r\n",
    "## 마크다운 기능\r\n",
    "**볼드체** *이탤릭체*\r\n",
    " - 리스트 기능은 -\r\n",
    "     - 리스트 안 리스트는 들여쓰기\r\n",
    "\r\n",
    " 1. 숫자 리스트\r\n",
    "    1. 숫자 뎁스2 리스트\r\n",
    "    2. 숫자 뎁스2 리스트\r\n",
    " 2. 숫자 리스트\r\n",
    " > 인용구는 꺽쇄> 표시\r\n",
    "\r\n",
    "### 마크다운 수학 기능\r\n",
    "$Y = 3x$\r\n",
    "\r\n",
    "$\\alpha$\r\n",
    "$\\delta$\r\n",
    "$\\sigma$\r\n",
    "\r\n",
    " - 달려표시($)안에 수식 적으면 수학기호로 표기됨\r\n",
    "\r\n",
    "### 마크다운 코드\r\n",
    " - \\``` 쓰고 언어 명시하고 ```로 닫음\r\n",
    "```python\r\n",
    "a = 10\r\n",
    "print(a)\r\n",
    "```\r\n",
    "\r\n",
    "```c\r\n",
    "printf(\"%d\", a)\r\n",
    "```\r\n",
    "\r\n",
    "### 링크 달기\r\n",
    "[깃허브](https://github.com/)"
   ],
   "metadata": {}
  },
  {
   "cell_type": "code",
   "execution_count": 2,
   "source": [
    "    "
   ],
   "outputs": [
    {
     "output_type": "stream",
     "name": "stderr",
     "text": [
      "Did not find path entry C:\\Users\\ad\\miniconda3\\bin\n"
     ]
    }
   ],
   "metadata": {}
  },
  {
   "cell_type": "code",
   "execution_count": null,
   "source": [],
   "outputs": [],
   "metadata": {}
  }
 ],
 "metadata": {
  "orig_nbformat": 4,
  "language_info": {
   "name": "python",
   "version": "3.9.1",
   "mimetype": "text/x-python",
   "codemirror_mode": {
    "name": "ipython",
    "version": 3
   },
   "pygments_lexer": "ipython3",
   "nbconvert_exporter": "python",
   "file_extension": ".py"
  },
  "kernelspec": {
   "name": "python3",
   "display_name": "Python 3.9.1 64-bit ('base': conda)"
  },
  "interpreter": {
   "hash": "26cbe81f990c700cacc7344ce939feb35388ff5140935024bac84d606131ac1b"
  }
 },
 "nbformat": 4,
 "nbformat_minor": 2
}